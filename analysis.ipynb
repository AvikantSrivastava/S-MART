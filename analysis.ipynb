{
  "nbformat": 4,
  "nbformat_minor": 0,
  "metadata": {
    "colab": {
      "name": "analysis.ipynb",
      "provenance": [],
      "collapsed_sections": [],
      "authorship_tag": "ABX9TyMnrpyrdMwegAMyWsaRXodF"
    },
    "kernelspec": {
      "name": "python3",
      "display_name": "Python 3"
    }
  },
  "cells": [
    {
      "cell_type": "code",
      "metadata": {
        "id": "HKRQUMHq_vlM"
      },
      "source": [
        "import pandas as pd\r\n",
        "import numpy as np\r\n",
        "from sklearn.cluster import KMeans\r\n",
        "from sklearn.preprocessing import LabelEncoder\r\n",
        "import seaborn as sns\r\n",
        "import matplotlib.pyplot as plt"
      ],
      "execution_count": 17,
      "outputs": []
    },
    {
      "cell_type": "code",
      "metadata": {
        "id": "hrXSVCgP_74G"
      },
      "source": [
        "data1 = pd.read_csv('https://raw.githubusercontent.com/kpratik2015/Future-Datathon-c-dlabs/master/cproducts.csv')\r\n",
        "data2 = pd.read_csv('https://raw.githubusercontent.com/kpratik2015/Future-Datathon-c-dlabs/master/ctender.csv')"
      ],
      "execution_count": 18,
      "outputs": []
    },
    {
      "cell_type": "code",
      "metadata": {
        "colab": {
          "base_uri": "https://localhost:8080/",
          "height": 366
        },
        "id": "FefumxzBAzhp",
        "outputId": "8e609e78-c811-43eb-d281-fbf520912061"
      },
      "source": [
        "data1.head()"
      ],
      "execution_count": 19,
      "outputs": [
        {
          "output_type": "execute_result",
          "data": {
            "text/html": [
              "<div>\n",
              "<style scoped>\n",
              "    .dataframe tbody tr th:only-of-type {\n",
              "        vertical-align: middle;\n",
              "    }\n",
              "\n",
              "    .dataframe tbody tr th {\n",
              "        vertical-align: top;\n",
              "    }\n",
              "\n",
              "    .dataframe thead th {\n",
              "        text-align: right;\n",
              "    }\n",
              "</style>\n",
              "<table border=\"1\" class=\"dataframe\">\n",
              "  <thead>\n",
              "    <tr style=\"text-align: right;\">\n",
              "      <th></th>\n",
              "      <th>customerID</th>\n",
              "      <th>DOB</th>\n",
              "      <th>Gender</th>\n",
              "      <th>State</th>\n",
              "      <th>PinCode</th>\n",
              "      <th>transactionDate</th>\n",
              "      <th>store_code</th>\n",
              "      <th>store_description</th>\n",
              "      <th>till_no</th>\n",
              "      <th>transaction_number_by_till</th>\n",
              "      <th>promo_code</th>\n",
              "      <th>promotion_description</th>\n",
              "      <th>product_code</th>\n",
              "      <th>product_description</th>\n",
              "      <th>sale_price_after_promo</th>\n",
              "      <th>discountUsed</th>\n",
              "    </tr>\n",
              "  </thead>\n",
              "  <tbody>\n",
              "    <tr>\n",
              "      <th>0</th>\n",
              "      <td>BBID_20482</td>\n",
              "      <td>1975-10-20</td>\n",
              "      <td>male</td>\n",
              "      <td>MADHYA PRADESH</td>\n",
              "      <td>453441.0</td>\n",
              "      <td>2016-05-01</td>\n",
              "      <td>2655</td>\n",
              "      <td>BB-INDORE-MALHAR MEGA MALL</td>\n",
              "      <td>2</td>\n",
              "      <td>85246</td>\n",
              "      <td>NONPROMO</td>\n",
              "      <td>NaN</td>\n",
              "      <td>1000446431</td>\n",
              "      <td>PATANJALI CHOCOS 125g</td>\n",
              "      <td>55.00</td>\n",
              "      <td>Payback</td>\n",
              "    </tr>\n",
              "    <tr>\n",
              "      <th>1</th>\n",
              "      <td>BBID_20485</td>\n",
              "      <td>1955-07-21</td>\n",
              "      <td>female</td>\n",
              "      <td>NaN</td>\n",
              "      <td>999999.0</td>\n",
              "      <td>2017-03-09</td>\n",
              "      <td>2655</td>\n",
              "      <td>BB-INDORE-MALHAR MEGA MALL</td>\n",
              "      <td>8</td>\n",
              "      <td>78829</td>\n",
              "      <td>NONPROMO</td>\n",
              "      <td>NaN</td>\n",
              "      <td>1000010431</td>\n",
              "      <td>SOO FRESH ROLLS HOT DOG 4P</td>\n",
              "      <td>30.00</td>\n",
              "      <td>Payback</td>\n",
              "    </tr>\n",
              "    <tr>\n",
              "      <th>2</th>\n",
              "      <td>BBID_20498</td>\n",
              "      <td>1981-03-19</td>\n",
              "      <td>female</td>\n",
              "      <td>MAHARASHTRA</td>\n",
              "      <td>400064.0</td>\n",
              "      <td>2015-08-12</td>\n",
              "      <td>2655</td>\n",
              "      <td>BB-INDORE-MALHAR MEGA MALL</td>\n",
              "      <td>13</td>\n",
              "      <td>1064</td>\n",
              "      <td>0000971754</td>\n",
              "      <td>AD 399 FLAT LADIES JEANS  FASHION EXC</td>\n",
              "      <td>1000077851005</td>\n",
              "      <td>DLJ-0010-BSF-2-CJ-FL, 34, BLACK</td>\n",
              "      <td>418.95</td>\n",
              "      <td>Payback</td>\n",
              "    </tr>\n",
              "    <tr>\n",
              "      <th>3</th>\n",
              "      <td>BBID_20499</td>\n",
              "      <td>1986-05-10</td>\n",
              "      <td>male</td>\n",
              "      <td>MAHARASHTRA</td>\n",
              "      <td>400099.0</td>\n",
              "      <td>2016-12-18</td>\n",
              "      <td>2615</td>\n",
              "      <td>BB-AMRITSAR-TRILIUM MALL</td>\n",
              "      <td>14</td>\n",
              "      <td>51080</td>\n",
              "      <td>NONPROMO</td>\n",
              "      <td>NaN</td>\n",
              "      <td>1000443231</td>\n",
              "      <td>PATANJALI TOMATO KETCHUP BT 500g</td>\n",
              "      <td>70.00</td>\n",
              "      <td>Payback</td>\n",
              "    </tr>\n",
              "    <tr>\n",
              "      <th>4</th>\n",
              "      <td>BBID_204110</td>\n",
              "      <td>1988-02-29</td>\n",
              "      <td>male</td>\n",
              "      <td>MADHYA PRADESH</td>\n",
              "      <td>474001.0</td>\n",
              "      <td>2015-12-31</td>\n",
              "      <td>2655</td>\n",
              "      <td>BB-INDORE-MALHAR MEGA MALL</td>\n",
              "      <td>9</td>\n",
              "      <td>21911</td>\n",
              "      <td>0000974126</td>\n",
              "      <td>NMP 5% OFF CONCEPT DISCOUNT 2655</td>\n",
              "      <td>300481741</td>\n",
              "      <td>MAGGI NDL MERI MASALA PP 70g</td>\n",
              "      <td>34.20</td>\n",
              "      <td>Payback</td>\n",
              "    </tr>\n",
              "  </tbody>\n",
              "</table>\n",
              "</div>"
            ],
            "text/plain": [
              "    customerID         DOB  ... sale_price_after_promo discountUsed\n",
              "0   BBID_20482  1975-10-20  ...                  55.00      Payback\n",
              "1   BBID_20485  1955-07-21  ...                  30.00      Payback\n",
              "2   BBID_20498  1981-03-19  ...                 418.95      Payback\n",
              "3   BBID_20499  1986-05-10  ...                  70.00      Payback\n",
              "4  BBID_204110  1988-02-29  ...                  34.20      Payback\n",
              "\n",
              "[5 rows x 16 columns]"
            ]
          },
          "metadata": {
            "tags": []
          },
          "execution_count": 19
        }
      ]
    },
    {
      "cell_type": "code",
      "metadata": {
        "colab": {
          "base_uri": "https://localhost:8080/"
        },
        "id": "OH-syZ-fBbrv",
        "outputId": "47b060d9-f447-4912-f36d-0ab9b18931c6"
      },
      "source": [
        "data1.info()  "
      ],
      "execution_count": 20,
      "outputs": [
        {
          "output_type": "stream",
          "text": [
            "<class 'pandas.core.frame.DataFrame'>\n",
            "RangeIndex: 11972 entries, 0 to 11971\n",
            "Data columns (total 16 columns):\n",
            " #   Column                      Non-Null Count  Dtype  \n",
            "---  ------                      --------------  -----  \n",
            " 0   customerID                  11972 non-null  object \n",
            " 1   DOB                         11653 non-null  object \n",
            " 2   Gender                      10944 non-null  object \n",
            " 3   State                       10389 non-null  object \n",
            " 4   PinCode                     11155 non-null  float64\n",
            " 5   transactionDate             11972 non-null  object \n",
            " 6   store_code                  11972 non-null  int64  \n",
            " 7   store_description           11972 non-null  object \n",
            " 8   till_no                     11972 non-null  int64  \n",
            " 9   transaction_number_by_till  11972 non-null  int64  \n",
            " 10  promo_code                  11972 non-null  object \n",
            " 11  promotion_description       3462 non-null   object \n",
            " 12  product_code                11972 non-null  int64  \n",
            " 13  product_description         11972 non-null  object \n",
            " 14  sale_price_after_promo      11972 non-null  float64\n",
            " 15  discountUsed                11972 non-null  object \n",
            "dtypes: float64(2), int64(4), object(10)\n",
            "memory usage: 1.5+ MB\n"
          ],
          "name": "stdout"
        }
      ]
    },
    {
      "cell_type": "code",
      "metadata": {
        "colab": {
          "base_uri": "https://localhost:8080/",
          "height": 284
        },
        "id": "X-Ox7y41Bj5u",
        "outputId": "3e701b6c-59b1-4b8e-c4b6-4de967da28ef"
      },
      "source": [
        "data1.describe()"
      ],
      "execution_count": 21,
      "outputs": [
        {
          "output_type": "execute_result",
          "data": {
            "text/html": [
              "<div>\n",
              "<style scoped>\n",
              "    .dataframe tbody tr th:only-of-type {\n",
              "        vertical-align: middle;\n",
              "    }\n",
              "\n",
              "    .dataframe tbody tr th {\n",
              "        vertical-align: top;\n",
              "    }\n",
              "\n",
              "    .dataframe thead th {\n",
              "        text-align: right;\n",
              "    }\n",
              "</style>\n",
              "<table border=\"1\" class=\"dataframe\">\n",
              "  <thead>\n",
              "    <tr style=\"text-align: right;\">\n",
              "      <th></th>\n",
              "      <th>PinCode</th>\n",
              "      <th>store_code</th>\n",
              "      <th>till_no</th>\n",
              "      <th>transaction_number_by_till</th>\n",
              "      <th>product_code</th>\n",
              "      <th>sale_price_after_promo</th>\n",
              "    </tr>\n",
              "  </thead>\n",
              "  <tbody>\n",
              "    <tr>\n",
              "      <th>count</th>\n",
              "      <td>11155.000000</td>\n",
              "      <td>11972.000000</td>\n",
              "      <td>11972.000000</td>\n",
              "      <td>11972.000000</td>\n",
              "      <td>1.197200e+04</td>\n",
              "      <td>11972.000000</td>\n",
              "    </tr>\n",
              "    <tr>\n",
              "      <th>mean</th>\n",
              "      <td>550975.894666</td>\n",
              "      <td>3954.204895</td>\n",
              "      <td>9.491397</td>\n",
              "      <td>47701.304795</td>\n",
              "      <td>9.203021e+10</td>\n",
              "      <td>147.014886</td>\n",
              "    </tr>\n",
              "    <tr>\n",
              "      <th>std</th>\n",
              "      <td>214810.201978</td>\n",
              "      <td>1037.944359</td>\n",
              "      <td>5.771728</td>\n",
              "      <td>28745.657308</td>\n",
              "      <td>5.353262e+11</td>\n",
              "      <td>303.717711</td>\n",
              "    </tr>\n",
              "    <tr>\n",
              "      <th>min</th>\n",
              "      <td>14301.000000</td>\n",
              "      <td>2615.000000</td>\n",
              "      <td>1.000000</td>\n",
              "      <td>11.000000</td>\n",
              "      <td>1.001030e+08</td>\n",
              "      <td>-599.000000</td>\n",
              "    </tr>\n",
              "    <tr>\n",
              "      <th>25%</th>\n",
              "      <td>452001.000000</td>\n",
              "      <td>2655.000000</td>\n",
              "      <td>5.000000</td>\n",
              "      <td>22357.750000</td>\n",
              "      <td>1.080376e+08</td>\n",
              "      <td>30.000000</td>\n",
              "    </tr>\n",
              "    <tr>\n",
              "      <th>50%</th>\n",
              "      <td>580024.000000</td>\n",
              "      <td>4796.000000</td>\n",
              "      <td>9.000000</td>\n",
              "      <td>47437.500000</td>\n",
              "      <td>3.006113e+08</td>\n",
              "      <td>71.250000</td>\n",
              "    </tr>\n",
              "    <tr>\n",
              "      <th>75%</th>\n",
              "      <td>625018.000000</td>\n",
              "      <td>4843.000000</td>\n",
              "      <td>13.000000</td>\n",
              "      <td>71724.250000</td>\n",
              "      <td>1.000118e+09</td>\n",
              "      <td>156.000000</td>\n",
              "    </tr>\n",
              "    <tr>\n",
              "      <th>max</th>\n",
              "      <td>999999.000000</td>\n",
              "      <td>4986.000000</td>\n",
              "      <td>25.000000</td>\n",
              "      <td>99965.000000</td>\n",
              "      <td>5.001112e+13</td>\n",
              "      <td>8576.500000</td>\n",
              "    </tr>\n",
              "  </tbody>\n",
              "</table>\n",
              "</div>"
            ],
            "text/plain": [
              "             PinCode    store_code  ...  product_code  sale_price_after_promo\n",
              "count   11155.000000  11972.000000  ...  1.197200e+04            11972.000000\n",
              "mean   550975.894666   3954.204895  ...  9.203021e+10              147.014886\n",
              "std    214810.201978   1037.944359  ...  5.353262e+11              303.717711\n",
              "min     14301.000000   2615.000000  ...  1.001030e+08             -599.000000\n",
              "25%    452001.000000   2655.000000  ...  1.080376e+08               30.000000\n",
              "50%    580024.000000   4796.000000  ...  3.006113e+08               71.250000\n",
              "75%    625018.000000   4843.000000  ...  1.000118e+09              156.000000\n",
              "max    999999.000000   4986.000000  ...  5.001112e+13             8576.500000\n",
              "\n",
              "[8 rows x 6 columns]"
            ]
          },
          "metadata": {
            "tags": []
          },
          "execution_count": 21
        }
      ]
    },
    {
      "cell_type": "code",
      "metadata": {
        "colab": {
          "base_uri": "https://localhost:8080/",
          "height": 284
        },
        "id": "_y4-hbcOBoao",
        "outputId": "a5cd8206-0e25-4185-ff59-0e6005d43168"
      },
      "source": [
        "data2.describe()"
      ],
      "execution_count": 22,
      "outputs": [
        {
          "output_type": "execute_result",
          "data": {
            "text/html": [
              "<div>\n",
              "<style scoped>\n",
              "    .dataframe tbody tr th:only-of-type {\n",
              "        vertical-align: middle;\n",
              "    }\n",
              "\n",
              "    .dataframe tbody tr th {\n",
              "        vertical-align: top;\n",
              "    }\n",
              "\n",
              "    .dataframe thead th {\n",
              "        text-align: right;\n",
              "    }\n",
              "</style>\n",
              "<table border=\"1\" class=\"dataframe\">\n",
              "  <thead>\n",
              "    <tr style=\"text-align: right;\">\n",
              "      <th></th>\n",
              "      <th>PinCode</th>\n",
              "      <th>store_code</th>\n",
              "      <th>till_no</th>\n",
              "      <th>transaction_number_by_till</th>\n",
              "      <th>payment_amount_by_tender</th>\n",
              "    </tr>\n",
              "  </thead>\n",
              "  <tbody>\n",
              "    <tr>\n",
              "      <th>count</th>\n",
              "      <td>144188.000000</td>\n",
              "      <td>149752.000000</td>\n",
              "      <td>149752.000000</td>\n",
              "      <td>1.497520e+05</td>\n",
              "      <td>149752.000000</td>\n",
              "    </tr>\n",
              "    <tr>\n",
              "      <th>mean</th>\n",
              "      <td>548303.118158</td>\n",
              "      <td>4092.197707</td>\n",
              "      <td>9.699176</td>\n",
              "      <td>4.237656e+05</td>\n",
              "      <td>1515.504483</td>\n",
              "    </tr>\n",
              "    <tr>\n",
              "      <th>std</th>\n",
              "      <td>200022.478975</td>\n",
              "      <td>1015.442506</td>\n",
              "      <td>5.908312</td>\n",
              "      <td>5.135921e+07</td>\n",
              "      <td>2032.301453</td>\n",
              "    </tr>\n",
              "    <tr>\n",
              "      <th>min</th>\n",
              "      <td>14301.000000</td>\n",
              "      <td>2615.000000</td>\n",
              "      <td>1.000000</td>\n",
              "      <td>2.000000e+00</td>\n",
              "      <td>-28990.000000</td>\n",
              "    </tr>\n",
              "    <tr>\n",
              "      <th>25%</th>\n",
              "      <td>452001.000000</td>\n",
              "      <td>2655.000000</td>\n",
              "      <td>5.000000</td>\n",
              "      <td>2.365475e+04</td>\n",
              "      <td>299.000000</td>\n",
              "    </tr>\n",
              "    <tr>\n",
              "      <th>50%</th>\n",
              "      <td>580028.000000</td>\n",
              "      <td>4796.000000</td>\n",
              "      <td>9.000000</td>\n",
              "      <td>4.817500e+04</td>\n",
              "      <td>835.815000</td>\n",
              "    </tr>\n",
              "    <tr>\n",
              "      <th>75%</th>\n",
              "      <td>625016.000000</td>\n",
              "      <td>4843.000000</td>\n",
              "      <td>14.000000</td>\n",
              "      <td>7.249975e+04</td>\n",
              "      <td>2004.000000</td>\n",
              "    </tr>\n",
              "    <tr>\n",
              "      <th>max</th>\n",
              "      <td>999999.000000</td>\n",
              "      <td>4986.000000</td>\n",
              "      <td>25.000000</td>\n",
              "      <td>7.031894e+09</td>\n",
              "      <td>65635.400000</td>\n",
              "    </tr>\n",
              "  </tbody>\n",
              "</table>\n",
              "</div>"
            ],
            "text/plain": [
              "             PinCode  ...  payment_amount_by_tender\n",
              "count  144188.000000  ...             149752.000000\n",
              "mean   548303.118158  ...               1515.504483\n",
              "std    200022.478975  ...               2032.301453\n",
              "min     14301.000000  ...             -28990.000000\n",
              "25%    452001.000000  ...                299.000000\n",
              "50%    580028.000000  ...                835.815000\n",
              "75%    625016.000000  ...               2004.000000\n",
              "max    999999.000000  ...              65635.400000\n",
              "\n",
              "[8 rows x 5 columns]"
            ]
          },
          "metadata": {
            "tags": []
          },
          "execution_count": 22
        }
      ]
    },
    {
      "cell_type": "code",
      "metadata": {
        "id": "-HjcqT43CPqf"
      },
      "source": [
        "df = data1\r\n",
        "df.drop('promotion_description', axis=1, inplace=True)"
      ],
      "execution_count": 24,
      "outputs": []
    },
    {
      "cell_type": "code",
      "metadata": {
        "id": "r7LbuuEMCefK"
      },
      "source": [
        "df['Gender'].fillna('no_gender', inplace=True)\r\n",
        "df['State'].fillna('no_state', inplace=True)\r\n",
        "df['PinCode'].fillna(-1, inplace=True)\r\n",
        "df['DOB'].fillna(\"1\", inplace=True)\r\n",
        "df['promo_code'].fillna(\"no_promo\",inplace=True)\r\n",
        "df['discountUsed'].fillna(\"no_discount\",inplace=True)\r\n",
        "df['State'].fillna(\"no_state\",inplace=True)\r\n",
        "df['sale_price_after_promo'].fillna(-1,inplace=True)\r\n",
        "df['product_code'].fillna(0.5,inplace=True)\r\n",
        "df['transaction_number_by_till'].fillna(\"no_number\",inplace=True)\r\n",
        "df['till_no'].fillna(\"no_number\",inplace=True)"
      ],
      "execution_count": 25,
      "outputs": []
    },
    {
      "cell_type": "code",
      "metadata": {
        "id": "_R3t3d0sCqO_"
      },
      "source": [
        "for c in df.columns:\r\n",
        "    lbl = LabelEncoder()\r\n",
        "    if df[c].dtype == 'object' and c not in ['PinCode','product_code','store_description','customerID','product_description','transactionDate']:\r\n",
        "        df[c] = lbl.fit_transform(df[c])"
      ],
      "execution_count": 26,
      "outputs": []
    },
    {
      "cell_type": "code",
      "metadata": {
        "id": "zQhUHC9FCutx"
      },
      "source": [
        "df1 = data2"
      ],
      "execution_count": 27,
      "outputs": []
    },
    {
      "cell_type": "code",
      "metadata": {
        "id": "XXu7KzYPC1aX"
      },
      "source": [
        "df1['Gender'].fillna('no_gender', inplace=True)\r\n",
        "df1['State'].fillna('no_state', inplace=True)\r\n",
        "df1['PinCode'].fillna(-1, inplace=True)\r\n",
        "df1['PaymentUsed'].fillna(\"unknown\", inplace=True)\r\n",
        "df1['DOB'].fillna(\"1\", inplace=True)\r\n",
        "df1['State'].fillna(\"no_state\",inplace=True)\r\n",
        "df1['payment_amount_by_tender'].fillna(-1,inplace=True)\r\n",
        "df1['transaction_number_by_till'].fillna(\"no_number\",inplace=True)\r\n",
        "df1['till_no'].fillna(\"no_number\",inplace=True)\r\n",
        "df1['tender_type'].fillna(\"no_number\",inplace=True)"
      ],
      "execution_count": 28,
      "outputs": []
    },
    {
      "cell_type": "code",
      "metadata": {
        "id": "XRM0p4RfC4al"
      },
      "source": [
        "for c in df1.columns:\r\n",
        "    lbl = LabelEncoder()\r\n",
        "    if df1[c].dtype == 'object' and c not in ['PinCode','store_description','customerID','transactionDate']:\r\n",
        "        df1[c] = lbl.fit_transform(df1[c])"
      ],
      "execution_count": 29,
      "outputs": []
    },
    {
      "cell_type": "code",
      "metadata": {
        "id": "X_NDQ6fIICI-"
      },
      "source": [
        "product_purchase_count = df.groupby('product_code')['customerID'].count()"
      ],
      "execution_count": 30,
      "outputs": []
    },
    {
      "cell_type": "code",
      "metadata": {
        "id": "92F-GME3IFX9"
      },
      "source": [
        "product_purchase_codes = product_purchase_count.index.tolist()\r\n",
        "product_purchase_values = product_purchase_count.values.tolist()\r\n",
        "product_count_dict = {}\r\n",
        "for x,y in zip(product_purchase_codes, product_purchase_values):\r\n",
        "    product_count_dict[x] = y\r\n",
        "# product_count_dict"
      ],
      "execution_count": 31,
      "outputs": []
    },
    {
      "cell_type": "code",
      "metadata": {
        "colab": {
          "base_uri": "https://localhost:8080/",
          "height": 194
        },
        "id": "CUcwk_3WIHk8",
        "outputId": "9f8a8f7d-9e0c-4637-c2bd-703cee5fed6d"
      },
      "source": [
        "def product_converter(code):\r\n",
        "    if(product_count_dict[code] <= 0):\r\n",
        "        return 1.0\r\n",
        "    return float(product_count_dict[code])\r\n",
        "df['productCount'] = df['product_code'].apply(product_converter)\r\n",
        "df.head(2)"
      ],
      "execution_count": 32,
      "outputs": [
        {
          "output_type": "execute_result",
          "data": {
            "text/html": [
              "<div>\n",
              "<style scoped>\n",
              "    .dataframe tbody tr th:only-of-type {\n",
              "        vertical-align: middle;\n",
              "    }\n",
              "\n",
              "    .dataframe tbody tr th {\n",
              "        vertical-align: top;\n",
              "    }\n",
              "\n",
              "    .dataframe thead th {\n",
              "        text-align: right;\n",
              "    }\n",
              "</style>\n",
              "<table border=\"1\" class=\"dataframe\">\n",
              "  <thead>\n",
              "    <tr style=\"text-align: right;\">\n",
              "      <th></th>\n",
              "      <th>customerID</th>\n",
              "      <th>DOB</th>\n",
              "      <th>Gender</th>\n",
              "      <th>State</th>\n",
              "      <th>PinCode</th>\n",
              "      <th>transactionDate</th>\n",
              "      <th>store_code</th>\n",
              "      <th>store_description</th>\n",
              "      <th>till_no</th>\n",
              "      <th>transaction_number_by_till</th>\n",
              "      <th>promo_code</th>\n",
              "      <th>product_code</th>\n",
              "      <th>product_description</th>\n",
              "      <th>sale_price_after_promo</th>\n",
              "      <th>discountUsed</th>\n",
              "      <th>productCount</th>\n",
              "    </tr>\n",
              "  </thead>\n",
              "  <tbody>\n",
              "    <tr>\n",
              "      <th>0</th>\n",
              "      <td>BBID_20482</td>\n",
              "      <td>3108</td>\n",
              "      <td>1</td>\n",
              "      <td>20</td>\n",
              "      <td>453441.0</td>\n",
              "      <td>2016-05-01</td>\n",
              "      <td>2655</td>\n",
              "      <td>BB-INDORE-MALHAR MEGA MALL</td>\n",
              "      <td>2</td>\n",
              "      <td>85246</td>\n",
              "      <td>2213</td>\n",
              "      <td>1000446431</td>\n",
              "      <td>PATANJALI CHOCOS 125g</td>\n",
              "      <td>55.0</td>\n",
              "      <td>24</td>\n",
              "      <td>1.0</td>\n",
              "    </tr>\n",
              "    <tr>\n",
              "      <th>1</th>\n",
              "      <td>BBID_20485</td>\n",
              "      <td>594</td>\n",
              "      <td>0</td>\n",
              "      <td>36</td>\n",
              "      <td>999999.0</td>\n",
              "      <td>2017-03-09</td>\n",
              "      <td>2655</td>\n",
              "      <td>BB-INDORE-MALHAR MEGA MALL</td>\n",
              "      <td>8</td>\n",
              "      <td>78829</td>\n",
              "      <td>2213</td>\n",
              "      <td>1000010431</td>\n",
              "      <td>SOO FRESH ROLLS HOT DOG 4P</td>\n",
              "      <td>30.0</td>\n",
              "      <td>24</td>\n",
              "      <td>2.0</td>\n",
              "    </tr>\n",
              "  </tbody>\n",
              "</table>\n",
              "</div>"
            ],
            "text/plain": [
              "   customerID   DOB  Gender  ...  sale_price_after_promo  discountUsed productCount\n",
              "0  BBID_20482  3108       1  ...                    55.0            24          1.0\n",
              "1  BBID_20485   594       0  ...                    30.0            24          2.0\n",
              "\n",
              "[2 rows x 16 columns]"
            ]
          },
          "metadata": {
            "tags": []
          },
          "execution_count": 32
        }
      ]
    },
    {
      "cell_type": "code",
      "metadata": {
        "id": "-4cbCXG5IJpI"
      },
      "source": [
        ""
      ],
      "execution_count": null,
      "outputs": []
    }
  ]
}