{
  "nbformat": 4,
  "nbformat_minor": 0,
  "metadata": {
    "kernelspec": {
      "display_name": "Python 3",
      "language": "python",
      "name": "python3"
    },
    "language_info": {
      "codemirror_mode": {
        "name": "ipython",
        "version": 3
      },
      "file_extension": ".py",
      "mimetype": "text/x-python",
      "name": "python",
      "nbconvert_exporter": "python",
      "pygments_lexer": "ipython3",
      "version": "3.6.1"
    },
    "colab": {
      "name": "Clustering.ipynb",
      "provenance": [],
      "collapsed_sections": [],
      "include_colab_link": true
    }
  },
  "cells": [
    {
      "cell_type": "markdown",
      "metadata": {
        "id": "view-in-github",
        "colab_type": "text"
      },
      "source": [
        "<a href=\"https://colab.research.google.com/github/shresth26/S-MART/blob/main/Clustering.ipynb\" target=\"_parent\"><img src=\"https://colab.research.google.com/assets/colab-badge.svg\" alt=\"Open In Colab\"/></a>"
      ]
    },
    {
      "cell_type": "markdown",
      "metadata": {
        "id": "87HUiUOq-7Ki"
      },
      "source": [
        "###Importing Libraries"
      ]
    },
    {
      "cell_type": "code",
      "metadata": {
        "colab": {
          "base_uri": "https://localhost:8080/",
          "height": 17
        },
        "id": "afTfrFzE1Ww6",
        "outputId": "51975c6e-f809-4258-a67c-b15d652714ef"
      },
      "source": [
        "import pandas as pd\n",
        "import numpy as np\n",
        "from sklearn.cluster import KMeans\n",
        "from sklearn.metrics import silhouette_score\n",
        "from sklearn.preprocessing import LabelEncoder, RobustScaler\n",
        "import seaborn as sns\n",
        "import matplotlib.pyplot as plt\n",
        "%matplotlib inline\n",
        "from pandas_datareader import data, wb\n",
        "import datetime\n",
        "from plotly import __version__\n",
        "from plotly.offline import download_plotlyjs, init_notebook_mode, plot, iplot\n",
        "import cufflinks as cf\n",
        "init_notebook_mode(connected=True)\n",
        "cf.go_offline()"
      ],
      "execution_count": 1,
      "outputs": [
        {
          "output_type": "display_data",
          "data": {
            "text/html": [
              "        <script type=\"text/javascript\">\n",
              "        window.PlotlyConfig = {MathJaxConfig: 'local'};\n",
              "        if (window.MathJax) {MathJax.Hub.Config({SVG: {font: \"STIX-Web\"}});}\n",
              "        if (typeof require !== 'undefined') {\n",
              "        require.undef(\"plotly\");\n",
              "        requirejs.config({\n",
              "            paths: {\n",
              "                'plotly': ['https://cdn.plot.ly/plotly-latest.min']\n",
              "            }\n",
              "        });\n",
              "        require(['plotly'], function(Plotly) {\n",
              "            window._Plotly = Plotly;\n",
              "        });\n",
              "        }\n",
              "        </script>\n",
              "        "
            ]
          },
          "metadata": {
            "tags": []
          }
        },
        {
          "output_type": "display_data",
          "data": {
            "text/html": [
              "        <script type=\"text/javascript\">\n",
              "        window.PlotlyConfig = {MathJaxConfig: 'local'};\n",
              "        if (window.MathJax) {MathJax.Hub.Config({SVG: {font: \"STIX-Web\"}});}\n",
              "        if (typeof require !== 'undefined') {\n",
              "        require.undef(\"plotly\");\n",
              "        requirejs.config({\n",
              "            paths: {\n",
              "                'plotly': ['https://cdn.plot.ly/plotly-latest.min']\n",
              "            }\n",
              "        });\n",
              "        require(['plotly'], function(Plotly) {\n",
              "            window._Plotly = Plotly;\n",
              "        });\n",
              "        }\n",
              "        </script>\n",
              "        "
            ]
          },
          "metadata": {
            "tags": []
          }
        }
      ]
    },
    {
      "cell_type": "markdown",
      "metadata": {
        "id": "6KdbAfjH_BMz"
      },
      "source": [
        "## Loading Data"
      ]
    },
    {
      "cell_type": "code",
      "metadata": {
        "collapsed": true,
        "id": "wKqj8GYW1WxC"
      },
      "source": [
        "tender = pd.read_csv('tender.csv')\n",
        "products = pd.read_csv('products.csv')"
      ],
      "execution_count": 2,
      "outputs": []
    },
    {
      "cell_type": "code",
      "metadata": {
        "colab": {
          "base_uri": "https://localhost:8080/",
          "height": 308
        },
        "id": "JGhrJT5l1WxC",
        "outputId": "beba17a3-0353-455c-d890-662c9b053f03"
      },
      "source": [
        "products.head()"
      ],
      "execution_count": 3,
      "outputs": [
        {
          "output_type": "execute_result",
          "data": {
            "text/html": [
              "<div>\n",
              "<style scoped>\n",
              "    .dataframe tbody tr th:only-of-type {\n",
              "        vertical-align: middle;\n",
              "    }\n",
              "\n",
              "    .dataframe tbody tr th {\n",
              "        vertical-align: top;\n",
              "    }\n",
              "\n",
              "    .dataframe thead th {\n",
              "        text-align: right;\n",
              "    }\n",
              "</style>\n",
              "<table border=\"1\" class=\"dataframe\">\n",
              "  <thead>\n",
              "    <tr style=\"text-align: right;\">\n",
              "      <th></th>\n",
              "      <th>customerID</th>\n",
              "      <th>DOB</th>\n",
              "      <th>Gender</th>\n",
              "      <th>State</th>\n",
              "      <th>PinCode</th>\n",
              "      <th>transactionDate</th>\n",
              "      <th>store_code</th>\n",
              "      <th>store_description</th>\n",
              "      <th>till_no</th>\n",
              "      <th>transaction_number_by_till</th>\n",
              "      <th>promo_code</th>\n",
              "      <th>promotion_description</th>\n",
              "      <th>product_code</th>\n",
              "      <th>product_description</th>\n",
              "      <th>sale_price_after_promo</th>\n",
              "      <th>discountUsed</th>\n",
              "    </tr>\n",
              "  </thead>\n",
              "  <tbody>\n",
              "    <tr>\n",
              "      <th>0</th>\n",
              "      <td>BBID_20482</td>\n",
              "      <td>1975-10-20</td>\n",
              "      <td>male</td>\n",
              "      <td>MADHYA PRADESH</td>\n",
              "      <td>453441.0</td>\n",
              "      <td>2016-05-01</td>\n",
              "      <td>2655</td>\n",
              "      <td>BB-INDORE-MALHAR MEGA MALL</td>\n",
              "      <td>2</td>\n",
              "      <td>85246</td>\n",
              "      <td>NONPROMO</td>\n",
              "      <td>NaN</td>\n",
              "      <td>1000446431</td>\n",
              "      <td>PATANJALI CHOCOS 125g</td>\n",
              "      <td>55.00</td>\n",
              "      <td>Payback</td>\n",
              "    </tr>\n",
              "    <tr>\n",
              "      <th>1</th>\n",
              "      <td>BBID_20485</td>\n",
              "      <td>1955-07-21</td>\n",
              "      <td>female</td>\n",
              "      <td>NaN</td>\n",
              "      <td>999999.0</td>\n",
              "      <td>2017-03-09</td>\n",
              "      <td>2655</td>\n",
              "      <td>BB-INDORE-MALHAR MEGA MALL</td>\n",
              "      <td>8</td>\n",
              "      <td>78829</td>\n",
              "      <td>NONPROMO</td>\n",
              "      <td>NaN</td>\n",
              "      <td>1000010431</td>\n",
              "      <td>SOO FRESH ROLLS HOT DOG 4P</td>\n",
              "      <td>30.00</td>\n",
              "      <td>Payback</td>\n",
              "    </tr>\n",
              "    <tr>\n",
              "      <th>2</th>\n",
              "      <td>BBID_20498</td>\n",
              "      <td>1981-03-19</td>\n",
              "      <td>female</td>\n",
              "      <td>MAHARASHTRA</td>\n",
              "      <td>400064.0</td>\n",
              "      <td>2015-08-12</td>\n",
              "      <td>2655</td>\n",
              "      <td>BB-INDORE-MALHAR MEGA MALL</td>\n",
              "      <td>13</td>\n",
              "      <td>1064</td>\n",
              "      <td>0000971754</td>\n",
              "      <td>AD 399 FLAT LADIES JEANS  FASHION EXC</td>\n",
              "      <td>1000077851005</td>\n",
              "      <td>DLJ-0010-BSF-2-CJ-FL, 34, BLACK</td>\n",
              "      <td>418.95</td>\n",
              "      <td>Payback</td>\n",
              "    </tr>\n",
              "    <tr>\n",
              "      <th>3</th>\n",
              "      <td>BBID_20499</td>\n",
              "      <td>1986-05-10</td>\n",
              "      <td>male</td>\n",
              "      <td>MAHARASHTRA</td>\n",
              "      <td>400099.0</td>\n",
              "      <td>2016-12-18</td>\n",
              "      <td>2615</td>\n",
              "      <td>BB-AMRITSAR-TRILIUM MALL</td>\n",
              "      <td>14</td>\n",
              "      <td>51080</td>\n",
              "      <td>NONPROMO</td>\n",
              "      <td>NaN</td>\n",
              "      <td>1000443231</td>\n",
              "      <td>PATANJALI TOMATO KETCHUP BT 500g</td>\n",
              "      <td>70.00</td>\n",
              "      <td>Payback</td>\n",
              "    </tr>\n",
              "    <tr>\n",
              "      <th>4</th>\n",
              "      <td>BBID_204110</td>\n",
              "      <td>1988-02-29</td>\n",
              "      <td>male</td>\n",
              "      <td>MADHYA PRADESH</td>\n",
              "      <td>474001.0</td>\n",
              "      <td>2015-12-31</td>\n",
              "      <td>2655</td>\n",
              "      <td>BB-INDORE-MALHAR MEGA MALL</td>\n",
              "      <td>9</td>\n",
              "      <td>21911</td>\n",
              "      <td>0000974126</td>\n",
              "      <td>NMP 5% OFF CONCEPT DISCOUNT 2655</td>\n",
              "      <td>300481741</td>\n",
              "      <td>MAGGI NDL MERI MASALA PP 70g</td>\n",
              "      <td>34.20</td>\n",
              "      <td>Payback</td>\n",
              "    </tr>\n",
              "  </tbody>\n",
              "</table>\n",
              "</div>"
            ],
            "text/plain": [
              "    customerID         DOB  ... sale_price_after_promo discountUsed\n",
              "0   BBID_20482  1975-10-20  ...                  55.00      Payback\n",
              "1   BBID_20485  1955-07-21  ...                  30.00      Payback\n",
              "2   BBID_20498  1981-03-19  ...                 418.95      Payback\n",
              "3   BBID_20499  1986-05-10  ...                  70.00      Payback\n",
              "4  BBID_204110  1988-02-29  ...                  34.20      Payback\n",
              "\n",
              "[5 rows x 16 columns]"
            ]
          },
          "metadata": {
            "tags": []
          },
          "execution_count": 3
        }
      ]
    },
    {
      "cell_type": "code",
      "metadata": {
        "colab": {
          "base_uri": "https://localhost:8080/",
          "height": 308
        },
        "id": "WQyL3yun1WxF",
        "outputId": "c1737e93-ba4d-4770-a292-e000f628b8f9"
      },
      "source": [
        "tender.head()"
      ],
      "execution_count": 4,
      "outputs": [
        {
          "output_type": "execute_result",
          "data": {
            "text/html": [
              "<div>\n",
              "<style scoped>\n",
              "    .dataframe tbody tr th:only-of-type {\n",
              "        vertical-align: middle;\n",
              "    }\n",
              "\n",
              "    .dataframe tbody tr th {\n",
              "        vertical-align: top;\n",
              "    }\n",
              "\n",
              "    .dataframe thead th {\n",
              "        text-align: right;\n",
              "    }\n",
              "</style>\n",
              "<table border=\"1\" class=\"dataframe\">\n",
              "  <thead>\n",
              "    <tr style=\"text-align: right;\">\n",
              "      <th></th>\n",
              "      <th>customerID</th>\n",
              "      <th>DOB</th>\n",
              "      <th>Gender</th>\n",
              "      <th>State</th>\n",
              "      <th>PinCode</th>\n",
              "      <th>transactionDate</th>\n",
              "      <th>store_code</th>\n",
              "      <th>store_description</th>\n",
              "      <th>till_no</th>\n",
              "      <th>tender_type</th>\n",
              "      <th>transaction_number_by_till</th>\n",
              "      <th>payment_amount_by_tender</th>\n",
              "      <th>PaymentUsed</th>\n",
              "    </tr>\n",
              "  </thead>\n",
              "  <tbody>\n",
              "    <tr>\n",
              "      <th>0</th>\n",
              "      <td>BBID_2044</td>\n",
              "      <td>1984-04-02</td>\n",
              "      <td>male</td>\n",
              "      <td>NaN</td>\n",
              "      <td>626125.0</td>\n",
              "      <td>2015-09-03</td>\n",
              "      <td>4986</td>\n",
              "      <td>BB-MADURAI-KOCHADAI VILLAGE</td>\n",
              "      <td>22</td>\n",
              "      <td>GVOWN</td>\n",
              "      <td>9208</td>\n",
              "      <td>1000.00</td>\n",
              "      <td>GiftVoucher</td>\n",
              "    </tr>\n",
              "    <tr>\n",
              "      <th>1</th>\n",
              "      <td>BBID_2044</td>\n",
              "      <td>1984-04-02</td>\n",
              "      <td>male</td>\n",
              "      <td>NaN</td>\n",
              "      <td>626125.0</td>\n",
              "      <td>2015-09-03</td>\n",
              "      <td>4986</td>\n",
              "      <td>BB-MADURAI-KOCHADAI VILLAGE</td>\n",
              "      <td>22</td>\n",
              "      <td>CASH</td>\n",
              "      <td>9208</td>\n",
              "      <td>10.46</td>\n",
              "      <td>CASH</td>\n",
              "    </tr>\n",
              "    <tr>\n",
              "      <th>2</th>\n",
              "      <td>BBID_2044</td>\n",
              "      <td>1984-04-02</td>\n",
              "      <td>male</td>\n",
              "      <td>NaN</td>\n",
              "      <td>626125.0</td>\n",
              "      <td>2016-04-17</td>\n",
              "      <td>4986</td>\n",
              "      <td>BB-MADURAI-KOCHADAI VILLAGE</td>\n",
              "      <td>19</td>\n",
              "      <td>EDCAXIS</td>\n",
              "      <td>90269</td>\n",
              "      <td>677.28</td>\n",
              "      <td>AXIS</td>\n",
              "    </tr>\n",
              "    <tr>\n",
              "      <th>3</th>\n",
              "      <td>BBID_2044</td>\n",
              "      <td>1984-04-02</td>\n",
              "      <td>male</td>\n",
              "      <td>NaN</td>\n",
              "      <td>626125.0</td>\n",
              "      <td>2016-04-17</td>\n",
              "      <td>4986</td>\n",
              "      <td>BB-MADURAI-KOCHADAI VILLAGE</td>\n",
              "      <td>19</td>\n",
              "      <td>MOBI</td>\n",
              "      <td>90268</td>\n",
              "      <td>1042.00</td>\n",
              "      <td>One MobiKwik Systems</td>\n",
              "    </tr>\n",
              "    <tr>\n",
              "      <th>4</th>\n",
              "      <td>BBID_2044</td>\n",
              "      <td>1984-04-02</td>\n",
              "      <td>male</td>\n",
              "      <td>NaN</td>\n",
              "      <td>626125.0</td>\n",
              "      <td>2016-04-17</td>\n",
              "      <td>4986</td>\n",
              "      <td>BB-MADURAI-KOCHADAI VILLAGE</td>\n",
              "      <td>19</td>\n",
              "      <td>MOBI</td>\n",
              "      <td>90269</td>\n",
              "      <td>1000.00</td>\n",
              "      <td>One MobiKwik Systems</td>\n",
              "    </tr>\n",
              "  </tbody>\n",
              "</table>\n",
              "</div>"
            ],
            "text/plain": [
              "  customerID         DOB  ... payment_amount_by_tender           PaymentUsed\n",
              "0  BBID_2044  1984-04-02  ...                  1000.00           GiftVoucher\n",
              "1  BBID_2044  1984-04-02  ...                    10.46                  CASH\n",
              "2  BBID_2044  1984-04-02  ...                   677.28                  AXIS\n",
              "3  BBID_2044  1984-04-02  ...                  1042.00  One MobiKwik Systems\n",
              "4  BBID_2044  1984-04-02  ...                  1000.00  One MobiKwik Systems\n",
              "\n",
              "[5 rows x 13 columns]"
            ]
          },
          "metadata": {
            "tags": []
          },
          "execution_count": 4
        }
      ]
    },
    {
      "cell_type": "markdown",
      "metadata": {
        "id": "TF0ffnEx_IXb"
      },
      "source": [
        "### Handling Missing values"
      ]
    },
    {
      "cell_type": "code",
      "metadata": {
        "collapsed": true,
        "id": "YtT_nLue1WxF"
      },
      "source": [
        "products['promotion_description'].fillna('no_promo', inplace=True)\n",
        "products['Gender'].fillna('no_gender', inplace=True)\n",
        "products['State'].fillna('no_state', inplace=True)\n",
        "products['PinCode'].fillna(-1, inplace=True)\n",
        "products['DOB'].fillna(\"1\", inplace=True)"
      ],
      "execution_count": 5,
      "outputs": []
    },
    {
      "cell_type": "markdown",
      "metadata": {
        "id": "Chz9hLXzBAlu"
      },
      "source": [
        "### Converting data into numeric / float"
      ]
    },
    {
      "cell_type": "code",
      "metadata": {
        "id": "2AeLfWZxAwZf"
      },
      "source": [
        "for c in products.columns:\n",
        "    lbl = LabelEncoder()\n",
        "    if products[c].dtype == 'object' and c not in ['store_description','customerID','transactionDate']:\n",
        "        products[c] = lbl.fit_transform(products[c])"
      ],
      "execution_count": 6,
      "outputs": []
    },
    {
      "cell_type": "code",
      "metadata": {
        "colab": {
          "base_uri": "https://localhost:8080/"
        },
        "id": "3l9Zru6LA__y",
        "outputId": "6a38bfa6-67ab-4251-acb6-6728e427fad6"
      },
      "source": [
        "products.info()"
      ],
      "execution_count": 7,
      "outputs": [
        {
          "output_type": "stream",
          "text": [
            "<class 'pandas.core.frame.DataFrame'>\n",
            "RangeIndex: 11972 entries, 0 to 11971\n",
            "Data columns (total 16 columns):\n",
            " #   Column                      Non-Null Count  Dtype  \n",
            "---  ------                      --------------  -----  \n",
            " 0   customerID                  11972 non-null  object \n",
            " 1   DOB                         11972 non-null  int64  \n",
            " 2   Gender                      11972 non-null  int64  \n",
            " 3   State                       11972 non-null  int64  \n",
            " 4   PinCode                     11972 non-null  float64\n",
            " 5   transactionDate             11972 non-null  object \n",
            " 6   store_code                  11972 non-null  int64  \n",
            " 7   store_description           11972 non-null  object \n",
            " 8   till_no                     11972 non-null  int64  \n",
            " 9   transaction_number_by_till  11972 non-null  int64  \n",
            " 10  promo_code                  11972 non-null  int64  \n",
            " 11  promotion_description       11972 non-null  int64  \n",
            " 12  product_code                11972 non-null  int64  \n",
            " 13  product_description         11972 non-null  int64  \n",
            " 14  sale_price_after_promo      11972 non-null  float64\n",
            " 15  discountUsed                11972 non-null  int64  \n",
            "dtypes: float64(2), int64(11), object(3)\n",
            "memory usage: 1.5+ MB\n"
          ],
          "name": "stdout"
        }
      ]
    },
    {
      "cell_type": "code",
      "metadata": {
        "colab": {
          "base_uri": "https://localhost:8080/",
          "height": 164
        },
        "id": "pQxrDTxwBJdo",
        "outputId": "9f739652-0dce-4517-af00-4043de0e7b4e"
      },
      "source": [
        "products.head(2)"
      ],
      "execution_count": 8,
      "outputs": [
        {
          "output_type": "execute_result",
          "data": {
            "text/html": [
              "<div>\n",
              "<style scoped>\n",
              "    .dataframe tbody tr th:only-of-type {\n",
              "        vertical-align: middle;\n",
              "    }\n",
              "\n",
              "    .dataframe tbody tr th {\n",
              "        vertical-align: top;\n",
              "    }\n",
              "\n",
              "    .dataframe thead th {\n",
              "        text-align: right;\n",
              "    }\n",
              "</style>\n",
              "<table border=\"1\" class=\"dataframe\">\n",
              "  <thead>\n",
              "    <tr style=\"text-align: right;\">\n",
              "      <th></th>\n",
              "      <th>customerID</th>\n",
              "      <th>DOB</th>\n",
              "      <th>Gender</th>\n",
              "      <th>State</th>\n",
              "      <th>PinCode</th>\n",
              "      <th>transactionDate</th>\n",
              "      <th>store_code</th>\n",
              "      <th>store_description</th>\n",
              "      <th>till_no</th>\n",
              "      <th>transaction_number_by_till</th>\n",
              "      <th>promo_code</th>\n",
              "      <th>promotion_description</th>\n",
              "      <th>product_code</th>\n",
              "      <th>product_description</th>\n",
              "      <th>sale_price_after_promo</th>\n",
              "      <th>discountUsed</th>\n",
              "    </tr>\n",
              "  </thead>\n",
              "  <tbody>\n",
              "    <tr>\n",
              "      <th>0</th>\n",
              "      <td>BBID_20482</td>\n",
              "      <td>3108</td>\n",
              "      <td>1</td>\n",
              "      <td>20</td>\n",
              "      <td>453441.0</td>\n",
              "      <td>2016-05-01</td>\n",
              "      <td>2655</td>\n",
              "      <td>BB-INDORE-MALHAR MEGA MALL</td>\n",
              "      <td>2</td>\n",
              "      <td>85246</td>\n",
              "      <td>2213</td>\n",
              "      <td>2010</td>\n",
              "      <td>1000446431</td>\n",
              "      <td>4269</td>\n",
              "      <td>55.0</td>\n",
              "      <td>24</td>\n",
              "    </tr>\n",
              "    <tr>\n",
              "      <th>1</th>\n",
              "      <td>BBID_20485</td>\n",
              "      <td>594</td>\n",
              "      <td>0</td>\n",
              "      <td>36</td>\n",
              "      <td>999999.0</td>\n",
              "      <td>2017-03-09</td>\n",
              "      <td>2655</td>\n",
              "      <td>BB-INDORE-MALHAR MEGA MALL</td>\n",
              "      <td>8</td>\n",
              "      <td>78829</td>\n",
              "      <td>2213</td>\n",
              "      <td>2010</td>\n",
              "      <td>1000010431</td>\n",
              "      <td>5121</td>\n",
              "      <td>30.0</td>\n",
              "      <td>24</td>\n",
              "    </tr>\n",
              "  </tbody>\n",
              "</table>\n",
              "</div>"
            ],
            "text/plain": [
              "   customerID   DOB  ...  sale_price_after_promo  discountUsed\n",
              "0  BBID_20482  3108  ...                    55.0            24\n",
              "1  BBID_20485   594  ...                    30.0            24\n",
              "\n",
              "[2 rows x 16 columns]"
            ]
          },
          "metadata": {
            "tags": []
          },
          "execution_count": 8
        }
      ]
    },
    {
      "cell_type": "code",
      "metadata": {
        "colab": {
          "base_uri": "https://localhost:8080/",
          "height": 452
        },
        "id": "9Vfo0A1RBcb1",
        "outputId": "86e1dc88-fdaa-4b72-a49d-7b173ded072d"
      },
      "source": [
        "by_store_desc = products.groupby(\"store_description\")\n",
        "by_store_desc.mean()"
      ],
      "execution_count": 9,
      "outputs": [
        {
          "output_type": "execute_result",
          "data": {
            "text/html": [
              "<div>\n",
              "<style scoped>\n",
              "    .dataframe tbody tr th:only-of-type {\n",
              "        vertical-align: middle;\n",
              "    }\n",
              "\n",
              "    .dataframe tbody tr th {\n",
              "        vertical-align: top;\n",
              "    }\n",
              "\n",
              "    .dataframe thead th {\n",
              "        text-align: right;\n",
              "    }\n",
              "</style>\n",
              "<table border=\"1\" class=\"dataframe\">\n",
              "  <thead>\n",
              "    <tr style=\"text-align: right;\">\n",
              "      <th></th>\n",
              "      <th>DOB</th>\n",
              "      <th>Gender</th>\n",
              "      <th>State</th>\n",
              "      <th>PinCode</th>\n",
              "      <th>store_code</th>\n",
              "      <th>till_no</th>\n",
              "      <th>transaction_number_by_till</th>\n",
              "      <th>promo_code</th>\n",
              "      <th>promotion_description</th>\n",
              "      <th>product_code</th>\n",
              "      <th>product_description</th>\n",
              "      <th>sale_price_after_promo</th>\n",
              "      <th>discountUsed</th>\n",
              "    </tr>\n",
              "    <tr>\n",
              "      <th>store_description</th>\n",
              "      <th></th>\n",
              "      <th></th>\n",
              "      <th></th>\n",
              "      <th></th>\n",
              "      <th></th>\n",
              "      <th></th>\n",
              "      <th></th>\n",
              "      <th></th>\n",
              "      <th></th>\n",
              "      <th></th>\n",
              "      <th></th>\n",
              "      <th></th>\n",
              "      <th></th>\n",
              "    </tr>\n",
              "  </thead>\n",
              "  <tbody>\n",
              "    <tr>\n",
              "      <th>BB-AMRITSAR-TRILIUM MALL</th>\n",
              "      <td>3285.408022</td>\n",
              "      <td>0.854772</td>\n",
              "      <td>26.349931</td>\n",
              "      <td>156611.124481</td>\n",
              "      <td>2615.0</td>\n",
              "      <td>8.968188</td>\n",
              "      <td>49042.356846</td>\n",
              "      <td>1882.461964</td>\n",
              "      <td>1458.235131</td>\n",
              "      <td>1.140550e+11</td>\n",
              "      <td>2847.396957</td>\n",
              "      <td>186.455380</td>\n",
              "      <td>8.290456</td>\n",
              "    </tr>\n",
              "    <tr>\n",
              "      <th>BB-HUBLI-GOKUL ROAD-AKSHAY CEN</th>\n",
              "      <td>2943.606575</td>\n",
              "      <td>0.914379</td>\n",
              "      <td>19.336705</td>\n",
              "      <td>532821.248916</td>\n",
              "      <td>4796.0</td>\n",
              "      <td>10.396676</td>\n",
              "      <td>48774.490968</td>\n",
              "      <td>1913.524205</td>\n",
              "      <td>1707.052384</td>\n",
              "      <td>9.096180e+10</td>\n",
              "      <td>3025.423410</td>\n",
              "      <td>150.773916</td>\n",
              "      <td>22.810332</td>\n",
              "    </tr>\n",
              "    <tr>\n",
              "      <th>BB-INDORE-MALHAR MEGA MALL</th>\n",
              "      <td>3967.847488</td>\n",
              "      <td>0.812794</td>\n",
              "      <td>22.549693</td>\n",
              "      <td>452809.792917</td>\n",
              "      <td>2655.0</td>\n",
              "      <td>7.179256</td>\n",
              "      <td>44456.108782</td>\n",
              "      <td>1964.325623</td>\n",
              "      <td>1779.710878</td>\n",
              "      <td>7.976166e+10</td>\n",
              "      <td>2929.641850</td>\n",
              "      <td>133.752280</td>\n",
              "      <td>18.117456</td>\n",
              "    </tr>\n",
              "    <tr>\n",
              "      <th>BB-INDORE-TREASURE ISLAND</th>\n",
              "      <td>4150.093079</td>\n",
              "      <td>0.735084</td>\n",
              "      <td>22.052506</td>\n",
              "      <td>473512.361177</td>\n",
              "      <td>2906.0</td>\n",
              "      <td>8.151949</td>\n",
              "      <td>36687.421639</td>\n",
              "      <td>2027.683373</td>\n",
              "      <td>1784.295147</td>\n",
              "      <td>1.386935e+11</td>\n",
              "      <td>2901.189340</td>\n",
              "      <td>139.138043</td>\n",
              "      <td>20.318218</td>\n",
              "    </tr>\n",
              "    <tr>\n",
              "      <th>BB-JAMSHEDPUR-NH-33</th>\n",
              "      <td>3477.519906</td>\n",
              "      <td>0.863232</td>\n",
              "      <td>18.256674</td>\n",
              "      <td>759948.907728</td>\n",
              "      <td>4843.0</td>\n",
              "      <td>10.494145</td>\n",
              "      <td>51589.503981</td>\n",
              "      <td>1837.851522</td>\n",
              "      <td>1605.162061</td>\n",
              "      <td>7.954487e+10</td>\n",
              "      <td>2849.703513</td>\n",
              "      <td>151.799522</td>\n",
              "      <td>23.189227</td>\n",
              "    </tr>\n",
              "    <tr>\n",
              "      <th>BB-LUDHIANA-FEROZEPUR-MF</th>\n",
              "      <td>3770.128920</td>\n",
              "      <td>0.860627</td>\n",
              "      <td>25.757840</td>\n",
              "      <td>151556.721254</td>\n",
              "      <td>3692.0</td>\n",
              "      <td>5.205575</td>\n",
              "      <td>50358.003484</td>\n",
              "      <td>1902.461672</td>\n",
              "      <td>1408.918118</td>\n",
              "      <td>1.050238e+11</td>\n",
              "      <td>2826.041812</td>\n",
              "      <td>158.998798</td>\n",
              "      <td>12.562718</td>\n",
              "    </tr>\n",
              "    <tr>\n",
              "      <th>BB-MADURAI-KOCHADAI VILLAGE</th>\n",
              "      <td>3326.441648</td>\n",
              "      <td>0.794050</td>\n",
              "      <td>29.400458</td>\n",
              "      <td>572335.250000</td>\n",
              "      <td>4986.0</td>\n",
              "      <td>13.080092</td>\n",
              "      <td>52882.939931</td>\n",
              "      <td>1892.247140</td>\n",
              "      <td>1764.308352</td>\n",
              "      <td>8.145967e+10</td>\n",
              "      <td>2775.545767</td>\n",
              "      <td>141.628381</td>\n",
              "      <td>22.613272</td>\n",
              "    </tr>\n",
              "  </tbody>\n",
              "</table>\n",
              "</div>"
            ],
            "text/plain": [
              "                                        DOB  ...  discountUsed\n",
              "store_description                            ...              \n",
              "BB-AMRITSAR-TRILIUM MALL        3285.408022  ...      8.290456\n",
              "BB-HUBLI-GOKUL ROAD-AKSHAY CEN  2943.606575  ...     22.810332\n",
              "BB-INDORE-MALHAR MEGA MALL      3967.847488  ...     18.117456\n",
              "BB-INDORE-TREASURE ISLAND       4150.093079  ...     20.318218\n",
              "BB-JAMSHEDPUR-NH-33             3477.519906  ...     23.189227\n",
              "BB-LUDHIANA-FEROZEPUR-MF        3770.128920  ...     12.562718\n",
              "BB-MADURAI-KOCHADAI VILLAGE     3326.441648  ...     22.613272\n",
              "\n",
              "[7 rows x 13 columns]"
            ]
          },
          "metadata": {
            "tags": []
          },
          "execution_count": 9
        }
      ]
    },
    {
      "cell_type": "code",
      "metadata": {
        "id": "ZUvD8CfKBef9"
      },
      "source": [
        "df = products \n",
        "df['transactionDate'] = pd.to_datetime(df['transactionDate'])"
      ],
      "execution_count": 10,
      "outputs": []
    },
    {
      "cell_type": "code",
      "metadata": {
        "colab": {
          "base_uri": "https://localhost:8080/"
        },
        "id": "sdo0a2G3Bjr6",
        "outputId": "f417bcb2-79ed-450c-e9e1-49fa7113bc58"
      },
      "source": [
        "type(df['transactionDate'].iloc[0])"
      ],
      "execution_count": 11,
      "outputs": [
        {
          "output_type": "execute_result",
          "data": {
            "text/plain": [
              "pandas._libs.tslibs.timestamps.Timestamp"
            ]
          },
          "metadata": {
            "tags": []
          },
          "execution_count": 11
        }
      ]
    },
    {
      "cell_type": "code",
      "metadata": {
        "id": "jqkBKSHxBmTK"
      },
      "source": [
        "if(df['customerID'].iloc[0].split('_')[0] != 'BBID'):\n",
        "    df['customerID'] = df['customerID'].apply(lambda bbid: \"BBID_\"+bbid)"
      ],
      "execution_count": 12,
      "outputs": []
    },
    {
      "cell_type": "code",
      "metadata": {
        "id": "tD18sT1NBpIr"
      },
      "source": [
        "stores = list(set(df['store_code']))\n",
        "\n",
        "cluster_labels = []\n",
        "cluster_store = []\n",
        "cluster_data = []\n",
        "cluster_customers = []\n",
        "cluster_score = []\n",
        "\n",
        "for x in stores:\n",
        "    cld = df[df['store_code'] == x]\n",
        "    cluster_customers.append(cld['customerID'])\n",
        "    cld.drop(['store_code','customerID','transactionDate','store_description'], axis=1, inplace=True)\n",
        "    \n",
        "    rbs = RobustScaler()\n",
        "    cld2 = rbs.fit_transform(cld)\n",
        "    \n",
        "    km1 = KMeans(n_clusters=6)\n",
        "    km2 = km1.fit(cld2)\n",
        "    label = km2.predict(cld2)\n",
        "    \n",
        "    s_score = silhouette_score(cld2, label)\n",
        "    cluster_score.append(s_score)\n",
        "    \n",
        "    cluster_labels.append(label)\n",
        "    cluster_store.append(np.repeat(x, cld.shape[0]))\n",
        "    cluster_data.append(cld2)"
      ],
      "execution_count": 13,
      "outputs": []
    },
    {
      "cell_type": "code",
      "metadata": {
        "id": "JEZl2BiGBtge"
      },
      "source": [
        ""
      ],
      "execution_count": null,
      "outputs": []
    }
  ]
}