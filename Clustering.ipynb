{
  "nbformat": 4,
  "nbformat_minor": 0,
  "metadata": {
    "kernelspec": {
      "display_name": "Python 3",
      "language": "python",
      "name": "python3"
    },
    "language_info": {
      "codemirror_mode": {
        "name": "ipython",
        "version": 3
      },
      "file_extension": ".py",
      "mimetype": "text/x-python",
      "name": "python",
      "nbconvert_exporter": "python",
      "pygments_lexer": "ipython3",
      "version": "3.6.1"
    },
    "colab": {
      "name": "Clustering.ipynb",
      "provenance": [],
      "collapsed_sections": [],
      "include_colab_link": true
    }
  },
  "cells": [
    {
      "cell_type": "markdown",
      "metadata": {
        "id": "view-in-github",
        "colab_type": "text"
      },
      "source": [
        "<a href=\"https://colab.research.google.com/github/shresth26/S-MART/blob/main/Clustering.ipynb\" target=\"_parent\"><img src=\"https://colab.research.google.com/assets/colab-badge.svg\" alt=\"Open In Colab\"/></a>"
      ]
    },
    {
      "cell_type": "markdown",
      "metadata": {
        "id": "87HUiUOq-7Ki"
      },
      "source": [
        "###Importing Libraries"
      ]
    },
    {
      "cell_type": "code",
      "metadata": {
        "colab": {
          "base_uri": "https://localhost:8080/",
          "height": 17
        },
        "id": "afTfrFzE1Ww6",
        "outputId": "51975c6e-f809-4258-a67c-b15d652714ef"
      },
      "source": [
        "import pandas as pd\n",
        "import numpy as np\n",
        "from sklearn.cluster import KMeans\n",
        "from sklearn.metrics import silhouette_score\n",
        "from sklearn.preprocessing import LabelEncoder, RobustScaler\n",
        "import seaborn as sns\n",
        "import matplotlib.pyplot as plt\n",
        "%matplotlib inline\n",
        "from pandas_datareader import data, wb\n",
        "import datetime\n",
        "from plotly import __version__\n",
        "from plotly.offline import download_plotlyjs, init_notebook_mode, plot, iplot\n",
        "import cufflinks as cf\n",
        "init_notebook_mode(connected=True)\n",
        "cf.go_offline()"
      ],
      "execution_count": 1,
      "outputs": [
        {
          "output_type": "display_data",
          "data": {
            "text/html": [
              "        <script type=\"text/javascript\">\n",
              "        window.PlotlyConfig = {MathJaxConfig: 'local'};\n",
              "        if (window.MathJax) {MathJax.Hub.Config({SVG: {font: \"STIX-Web\"}});}\n",
              "        if (typeof require !== 'undefined') {\n",
              "        require.undef(\"plotly\");\n",
              "        requirejs.config({\n",
              "            paths: {\n",
              "                'plotly': ['https://cdn.plot.ly/plotly-latest.min']\n",
              "            }\n",
              "        });\n",
              "        require(['plotly'], function(Plotly) {\n",
              "            window._Plotly = Plotly;\n",
              "        });\n",
              "        }\n",
              "        </script>\n",
              "        "
            ]
          },
          "metadata": {
            "tags": []
          }
        },
        {
          "output_type": "display_data",
          "data": {
            "text/html": [
              "        <script type=\"text/javascript\">\n",
              "        window.PlotlyConfig = {MathJaxConfig: 'local'};\n",
              "        if (window.MathJax) {MathJax.Hub.Config({SVG: {font: \"STIX-Web\"}});}\n",
              "        if (typeof require !== 'undefined') {\n",
              "        require.undef(\"plotly\");\n",
              "        requirejs.config({\n",
              "            paths: {\n",
              "                'plotly': ['https://cdn.plot.ly/plotly-latest.min']\n",
              "            }\n",
              "        });\n",
              "        require(['plotly'], function(Plotly) {\n",
              "            window._Plotly = Plotly;\n",
              "        });\n",
              "        }\n",
              "        </script>\n",
              "        "
            ]
          },
          "metadata": {
            "tags": []
          }
        }
      ]
    },
    {
      "cell_type": "markdown",
      "metadata": {
        "id": "6KdbAfjH_BMz"
      },
      "source": [
        "## Loading Data"
      ]
    },
    {
      "cell_type": "code",
      "metadata": {
        "collapsed": true,
        "id": "wKqj8GYW1WxC"
      },
      "source": [
        "tender = pd.read_csv('tender.csv')\n",
        "products = pd.read_csv('products.csv')"
      ],
      "execution_count": 2,
      "outputs": []
    },
    {
      "cell_type": "code",
      "metadata": {
        "colab": {
          "base_uri": "https://localhost:8080/",
          "height": 308
        },
        "id": "JGhrJT5l1WxC",
        "outputId": "beba17a3-0353-455c-d890-662c9b053f03"
      },
      "source": [
        "products.head()"
      ],
      "execution_count": 3,
      "outputs": [
        {
          "output_type": "execute_result",
          "data": {
            "text/html": [
              "<div>\n",
              "<style scoped>\n",
              "    .dataframe tbody tr th:only-of-type {\n",
              "        vertical-align: middle;\n",
              "    }\n",
              "\n",
              "    .dataframe tbody tr th {\n",
              "        vertical-align: top;\n",
              "    }\n",
              "\n",
              "    .dataframe thead th {\n",
              "        text-align: right;\n",
              "    }\n",
              "</style>\n",
              "<table border=\"1\" class=\"dataframe\">\n",
              "  <thead>\n",
              "    <tr style=\"text-align: right;\">\n",
              "      <th></th>\n",
              "      <th>customerID</th>\n",
              "      <th>DOB</th>\n",
              "      <th>Gender</th>\n",
              "      <th>State</th>\n",
              "      <th>PinCode</th>\n",
              "      <th>transactionDate</th>\n",
              "      <th>store_code</th>\n",
              "      <th>store_description</th>\n",
              "      <th>till_no</th>\n",
              "      <th>transaction_number_by_till</th>\n",
              "      <th>promo_code</th>\n",
              "      <th>promotion_description</th>\n",
              "      <th>product_code</th>\n",
              "      <th>product_description</th>\n",
              "      <th>sale_price_after_promo</th>\n",
              "      <th>discountUsed</th>\n",
              "    </tr>\n",
              "  </thead>\n",
              "  <tbody>\n",
              "    <tr>\n",
              "      <th>0</th>\n",
              "      <td>BBID_20482</td>\n",
              "      <td>1975-10-20</td>\n",
              "      <td>male</td>\n",
              "      <td>MADHYA PRADESH</td>\n",
              "      <td>453441.0</td>\n",
              "      <td>2016-05-01</td>\n",
              "      <td>2655</td>\n",
              "      <td>BB-INDORE-MALHAR MEGA MALL</td>\n",
              "      <td>2</td>\n",
              "      <td>85246</td>\n",
              "      <td>NONPROMO</td>\n",
              "      <td>NaN</td>\n",
              "      <td>1000446431</td>\n",
              "      <td>PATANJALI CHOCOS 125g</td>\n",
              "      <td>55.00</td>\n",
              "      <td>Payback</td>\n",
              "    </tr>\n",
              "    <tr>\n",
              "      <th>1</th>\n",
              "      <td>BBID_20485</td>\n",
              "      <td>1955-07-21</td>\n",
              "      <td>female</td>\n",
              "      <td>NaN</td>\n",
              "      <td>999999.0</td>\n",
              "      <td>2017-03-09</td>\n",
              "      <td>2655</td>\n",
              "      <td>BB-INDORE-MALHAR MEGA MALL</td>\n",
              "      <td>8</td>\n",
              "      <td>78829</td>\n",
              "      <td>NONPROMO</td>\n",
              "      <td>NaN</td>\n",
              "      <td>1000010431</td>\n",
              "      <td>SOO FRESH ROLLS HOT DOG 4P</td>\n",
              "      <td>30.00</td>\n",
              "      <td>Payback</td>\n",
              "    </tr>\n",
              "    <tr>\n",
              "      <th>2</th>\n",
              "      <td>BBID_20498</td>\n",
              "      <td>1981-03-19</td>\n",
              "      <td>female</td>\n",
              "      <td>MAHARASHTRA</td>\n",
              "      <td>400064.0</td>\n",
              "      <td>2015-08-12</td>\n",
              "      <td>2655</td>\n",
              "      <td>BB-INDORE-MALHAR MEGA MALL</td>\n",
              "      <td>13</td>\n",
              "      <td>1064</td>\n",
              "      <td>0000971754</td>\n",
              "      <td>AD 399 FLAT LADIES JEANS  FASHION EXC</td>\n",
              "      <td>1000077851005</td>\n",
              "      <td>DLJ-0010-BSF-2-CJ-FL, 34, BLACK</td>\n",
              "      <td>418.95</td>\n",
              "      <td>Payback</td>\n",
              "    </tr>\n",
              "    <tr>\n",
              "      <th>3</th>\n",
              "      <td>BBID_20499</td>\n",
              "      <td>1986-05-10</td>\n",
              "      <td>male</td>\n",
              "      <td>MAHARASHTRA</td>\n",
              "      <td>400099.0</td>\n",
              "      <td>2016-12-18</td>\n",
              "      <td>2615</td>\n",
              "      <td>BB-AMRITSAR-TRILIUM MALL</td>\n",
              "      <td>14</td>\n",
              "      <td>51080</td>\n",
              "      <td>NONPROMO</td>\n",
              "      <td>NaN</td>\n",
              "      <td>1000443231</td>\n",
              "      <td>PATANJALI TOMATO KETCHUP BT 500g</td>\n",
              "      <td>70.00</td>\n",
              "      <td>Payback</td>\n",
              "    </tr>\n",
              "    <tr>\n",
              "      <th>4</th>\n",
              "      <td>BBID_204110</td>\n",
              "      <td>1988-02-29</td>\n",
              "      <td>male</td>\n",
              "      <td>MADHYA PRADESH</td>\n",
              "      <td>474001.0</td>\n",
              "      <td>2015-12-31</td>\n",
              "      <td>2655</td>\n",
              "      <td>BB-INDORE-MALHAR MEGA MALL</td>\n",
              "      <td>9</td>\n",
              "      <td>21911</td>\n",
              "      <td>0000974126</td>\n",
              "      <td>NMP 5% OFF CONCEPT DISCOUNT 2655</td>\n",
              "      <td>300481741</td>\n",
              "      <td>MAGGI NDL MERI MASALA PP 70g</td>\n",
              "      <td>34.20</td>\n",
              "      <td>Payback</td>\n",
              "    </tr>\n",
              "  </tbody>\n",
              "</table>\n",
              "</div>"
            ],
            "text/plain": [
              "    customerID         DOB  ... sale_price_after_promo discountUsed\n",
              "0   BBID_20482  1975-10-20  ...                  55.00      Payback\n",
              "1   BBID_20485  1955-07-21  ...                  30.00      Payback\n",
              "2   BBID_20498  1981-03-19  ...                 418.95      Payback\n",
              "3   BBID_20499  1986-05-10  ...                  70.00      Payback\n",
              "4  BBID_204110  1988-02-29  ...                  34.20      Payback\n",
              "\n",
              "[5 rows x 16 columns]"
            ]
          },
          "metadata": {
            "tags": []
          },
          "execution_count": 3
        }
      ]
    },
    {
      "cell_type": "code",
      "metadata": {
        "colab": {
          "base_uri": "https://localhost:8080/",
          "height": 308
        },
        "id": "WQyL3yun1WxF",
        "outputId": "c1737e93-ba4d-4770-a292-e000f628b8f9"
      },
      "source": [
        "tender.head()"
      ],
      "execution_count": 4,
      "outputs": [
        {
          "output_type": "execute_result",
          "data": {
            "text/html": [
              "<div>\n",
              "<style scoped>\n",
              "    .dataframe tbody tr th:only-of-type {\n",
              "        vertical-align: middle;\n",
              "    }\n",
              "\n",
              "    .dataframe tbody tr th {\n",
              "        vertical-align: top;\n",
              "    }\n",
              "\n",
              "    .dataframe thead th {\n",
              "        text-align: right;\n",
              "    }\n",
              "</style>\n",
              "<table border=\"1\" class=\"dataframe\">\n",
              "  <thead>\n",
              "    <tr style=\"text-align: right;\">\n",
              "      <th></th>\n",
              "      <th>customerID</th>\n",
              "      <th>DOB</th>\n",
              "      <th>Gender</th>\n",
              "      <th>State</th>\n",
              "      <th>PinCode</th>\n",
              "      <th>transactionDate</th>\n",
              "      <th>store_code</th>\n",
              "      <th>store_description</th>\n",
              "      <th>till_no</th>\n",
              "      <th>tender_type</th>\n",
              "      <th>transaction_number_by_till</th>\n",
              "      <th>payment_amount_by_tender</th>\n",
              "      <th>PaymentUsed</th>\n",
              "    </tr>\n",
              "  </thead>\n",
              "  <tbody>\n",
              "    <tr>\n",
              "      <th>0</th>\n",
              "      <td>BBID_2044</td>\n",
              "      <td>1984-04-02</td>\n",
              "      <td>male</td>\n",
              "      <td>NaN</td>\n",
              "      <td>626125.0</td>\n",
              "      <td>2015-09-03</td>\n",
              "      <td>4986</td>\n",
              "      <td>BB-MADURAI-KOCHADAI VILLAGE</td>\n",
              "      <td>22</td>\n",
              "      <td>GVOWN</td>\n",
              "      <td>9208</td>\n",
              "      <td>1000.00</td>\n",
              "      <td>GiftVoucher</td>\n",
              "    </tr>\n",
              "    <tr>\n",
              "      <th>1</th>\n",
              "      <td>BBID_2044</td>\n",
              "      <td>1984-04-02</td>\n",
              "      <td>male</td>\n",
              "      <td>NaN</td>\n",
              "      <td>626125.0</td>\n",
              "      <td>2015-09-03</td>\n",
              "      <td>4986</td>\n",
              "      <td>BB-MADURAI-KOCHADAI VILLAGE</td>\n",
              "      <td>22</td>\n",
              "      <td>CASH</td>\n",
              "      <td>9208</td>\n",
              "      <td>10.46</td>\n",
              "      <td>CASH</td>\n",
              "    </tr>\n",
              "    <tr>\n",
              "      <th>2</th>\n",
              "      <td>BBID_2044</td>\n",
              "      <td>1984-04-02</td>\n",
              "      <td>male</td>\n",
              "      <td>NaN</td>\n",
              "      <td>626125.0</td>\n",
              "      <td>2016-04-17</td>\n",
              "      <td>4986</td>\n",
              "      <td>BB-MADURAI-KOCHADAI VILLAGE</td>\n",
              "      <td>19</td>\n",
              "      <td>EDCAXIS</td>\n",
              "      <td>90269</td>\n",
              "      <td>677.28</td>\n",
              "      <td>AXIS</td>\n",
              "    </tr>\n",
              "    <tr>\n",
              "      <th>3</th>\n",
              "      <td>BBID_2044</td>\n",
              "      <td>1984-04-02</td>\n",
              "      <td>male</td>\n",
              "      <td>NaN</td>\n",
              "      <td>626125.0</td>\n",
              "      <td>2016-04-17</td>\n",
              "      <td>4986</td>\n",
              "      <td>BB-MADURAI-KOCHADAI VILLAGE</td>\n",
              "      <td>19</td>\n",
              "      <td>MOBI</td>\n",
              "      <td>90268</td>\n",
              "      <td>1042.00</td>\n",
              "      <td>One MobiKwik Systems</td>\n",
              "    </tr>\n",
              "    <tr>\n",
              "      <th>4</th>\n",
              "      <td>BBID_2044</td>\n",
              "      <td>1984-04-02</td>\n",
              "      <td>male</td>\n",
              "      <td>NaN</td>\n",
              "      <td>626125.0</td>\n",
              "      <td>2016-04-17</td>\n",
              "      <td>4986</td>\n",
              "      <td>BB-MADURAI-KOCHADAI VILLAGE</td>\n",
              "      <td>19</td>\n",
              "      <td>MOBI</td>\n",
              "      <td>90269</td>\n",
              "      <td>1000.00</td>\n",
              "      <td>One MobiKwik Systems</td>\n",
              "    </tr>\n",
              "  </tbody>\n",
              "</table>\n",
              "</div>"
            ],
            "text/plain": [
              "  customerID         DOB  ... payment_amount_by_tender           PaymentUsed\n",
              "0  BBID_2044  1984-04-02  ...                  1000.00           GiftVoucher\n",
              "1  BBID_2044  1984-04-02  ...                    10.46                  CASH\n",
              "2  BBID_2044  1984-04-02  ...                   677.28                  AXIS\n",
              "3  BBID_2044  1984-04-02  ...                  1042.00  One MobiKwik Systems\n",
              "4  BBID_2044  1984-04-02  ...                  1000.00  One MobiKwik Systems\n",
              "\n",
              "[5 rows x 13 columns]"
            ]
          },
          "metadata": {
            "tags": []
          },
          "execution_count": 4
        }
      ]
    },
    {
      "cell_type": "markdown",
      "metadata": {
        "id": "TF0ffnEx_IXb"
      },
      "source": [
        "### Handling Missing values"
      ]
    },
    {
      "cell_type": "code",
      "metadata": {
        "collapsed": true,
        "id": "YtT_nLue1WxF"
      },
      "source": [
        "products['promotion_description'].fillna('no_promo', inplace=True)\n",
        "products['Gender'].fillna('no_gender', inplace=True)\n",
        "products['State'].fillna('no_state', inplace=True)\n",
        "products['PinCode'].fillna(-1, inplace=True)\n",
        "products['DOB'].fillna(\"1\", inplace=True)"
      ],
      "execution_count": 5,
      "outputs": []
    },
    {
      "cell_type": "code",
      "metadata": {
        "id": "2AeLfWZxAwZf"
      },
      "source": [
        ""
      ],
      "execution_count": null,
      "outputs": []
    }
  ]
}