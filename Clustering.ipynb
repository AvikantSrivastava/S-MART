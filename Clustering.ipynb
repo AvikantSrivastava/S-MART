{
  "nbformat": 4,
  "nbformat_minor": 0,
  "metadata": {
    "kernelspec": {
      "display_name": "Python 3",
      "language": "python",
      "name": "python3"
    },
    "language_info": {
      "codemirror_mode": {
        "name": "ipython",
        "version": 3
      },
      "file_extension": ".py",
      "mimetype": "text/x-python",
      "name": "python",
      "nbconvert_exporter": "python",
      "pygments_lexer": "ipython3",
      "version": "3.6.1"
    },
    "colab": {
      "name": "Clustering.ipynb",
      "provenance": [],
      "collapsed_sections": [],
      "include_colab_link": true
    }
  },
  "cells": [
    {
      "cell_type": "markdown",
      "metadata": {
        "id": "view-in-github",
        "colab_type": "text"
      },
      "source": [
        "<a href=\"https://colab.research.google.com/github/shresth26/S-MART/blob/main/Clustering.ipynb\" target=\"_parent\"><img src=\"https://colab.research.google.com/assets/colab-badge.svg\" alt=\"Open In Colab\"/></a>"
      ]
    },
    {
      "cell_type": "markdown",
      "metadata": {
        "id": "87HUiUOq-7Ki"
      },
      "source": [
        "###Importing Libraries"
      ]
    },
    {
      "cell_type": "code",
      "metadata": {
        "colab": {
          "base_uri": "https://localhost:8080/",
          "height": 17
        },
        "id": "afTfrFzE1Ww6",
        "outputId": "51975c6e-f809-4258-a67c-b15d652714ef"
      },
      "source": [
        "import pandas as pd\n",
        "import numpy as np\n",
        "from sklearn.cluster import KMeans\n",
        "from sklearn.metrics import silhouette_score\n",
        "from sklearn.preprocessing import LabelEncoder, RobustScaler\n",
        "import seaborn as sns\n",
        "import matplotlib.pyplot as plt\n",
        "%matplotlib inline\n",
        "from pandas_datareader import data, wb\n",
        "import datetime\n",
        "from plotly import __version__\n",
        "from plotly.offline import download_plotlyjs, init_notebook_mode, plot, iplot\n",
        "import cufflinks as cf\n",
        "init_notebook_mode(connected=True)\n",
        "cf.go_offline()"
      ],
      "execution_count": 1,
      "outputs": [
        {
          "output_type": "display_data",
          "data": {
            "text/html": [
              "        <script type=\"text/javascript\">\n",
              "        window.PlotlyConfig = {MathJaxConfig: 'local'};\n",
              "        if (window.MathJax) {MathJax.Hub.Config({SVG: {font: \"STIX-Web\"}});}\n",
              "        if (typeof require !== 'undefined') {\n",
              "        require.undef(\"plotly\");\n",
              "        requirejs.config({\n",
              "            paths: {\n",
              "                'plotly': ['https://cdn.plot.ly/plotly-latest.min']\n",
              "            }\n",
              "        });\n",
              "        require(['plotly'], function(Plotly) {\n",
              "            window._Plotly = Plotly;\n",
              "        });\n",
              "        }\n",
              "        </script>\n",
              "        "
            ]
          },
          "metadata": {
            "tags": []
          }
        },
        {
          "output_type": "display_data",
          "data": {
            "text/html": [
              "        <script type=\"text/javascript\">\n",
              "        window.PlotlyConfig = {MathJaxConfig: 'local'};\n",
              "        if (window.MathJax) {MathJax.Hub.Config({SVG: {font: \"STIX-Web\"}});}\n",
              "        if (typeof require !== 'undefined') {\n",
              "        require.undef(\"plotly\");\n",
              "        requirejs.config({\n",
              "            paths: {\n",
              "                'plotly': ['https://cdn.plot.ly/plotly-latest.min']\n",
              "            }\n",
              "        });\n",
              "        require(['plotly'], function(Plotly) {\n",
              "            window._Plotly = Plotly;\n",
              "        });\n",
              "        }\n",
              "        </script>\n",
              "        "
            ]
          },
          "metadata": {
            "tags": []
          }
        }
      ]
    },
    {
      "cell_type": "markdown",
      "metadata": {
        "id": "6KdbAfjH_BMz"
      },
      "source": [
        "## Loading Data"
      ]
    },
    {
      "cell_type": "code",
      "metadata": {
        "collapsed": true,
        "id": "wKqj8GYW1WxC"
      },
      "source": [
        "tender = pd.read_csv('tender.csv')\n",
        "products = pd.read_csv('products.csv')"
      ],
      "execution_count": 2,
      "outputs": []
    },
    {
      "cell_type": "code",
      "metadata": {
        "colab": {
          "base_uri": "https://localhost:8080/",
          "height": 308
        },
        "id": "JGhrJT5l1WxC",
        "outputId": "beba17a3-0353-455c-d890-662c9b053f03"
      },
      "source": [
        "products.head()"
      ],
      "execution_count": 3,
      "outputs": [
        {
          "output_type": "execute_result",
          "data": {
            "text/html": [
              "<div>\n",
              "<style scoped>\n",
              "    .dataframe tbody tr th:only-of-type {\n",
              "        vertical-align: middle;\n",
              "    }\n",
              "\n",
              "    .dataframe tbody tr th {\n",
              "        vertical-align: top;\n",
              "    }\n",
              "\n",
              "    .dataframe thead th {\n",
              "        text-align: right;\n",
              "    }\n",
              "</style>\n",
              "<table border=\"1\" class=\"dataframe\">\n",
              "  <thead>\n",
              "    <tr style=\"text-align: right;\">\n",
              "      <th></th>\n",
              "      <th>customerID</th>\n",
              "      <th>DOB</th>\n",
              "      <th>Gender</th>\n",
              "      <th>State</th>\n",
              "      <th>PinCode</th>\n",
              "      <th>transactionDate</th>\n",
              "      <th>store_code</th>\n",
              "      <th>store_description</th>\n",
              "      <th>till_no</th>\n",
              "      <th>transaction_number_by_till</th>\n",
              "      <th>promo_code</th>\n",
              "      <th>promotion_description</th>\n",
              "      <th>product_code</th>\n",
              "      <th>product_description</th>\n",
              "      <th>sale_price_after_promo</th>\n",
              "      <th>discountUsed</th>\n",
              "    </tr>\n",
              "  </thead>\n",
              "  <tbody>\n",
              "    <tr>\n",
              "      <th>0</th>\n",
              "      <td>BBID_20482</td>\n",
              "      <td>1975-10-20</td>\n",
              "      <td>male</td>\n",
              "      <td>MADHYA PRADESH</td>\n",
              "      <td>453441.0</td>\n",
              "      <td>2016-05-01</td>\n",
              "      <td>2655</td>\n",
              "      <td>BB-INDORE-MALHAR MEGA MALL</td>\n",
              "      <td>2</td>\n",
              "      <td>85246</td>\n",
              "      <td>NONPROMO</td>\n",
              "      <td>NaN</td>\n",
              "      <td>1000446431</td>\n",
              "      <td>PATANJALI CHOCOS 125g</td>\n",
              "      <td>55.00</td>\n",
              "      <td>Payback</td>\n",
              "    </tr>\n",
              "    <tr>\n",
              "      <th>1</th>\n",
              "      <td>BBID_20485</td>\n",
              "      <td>1955-07-21</td>\n",
              "      <td>female</td>\n",
              "      <td>NaN</td>\n",
              "      <td>999999.0</td>\n",
              "      <td>2017-03-09</td>\n",
              "      <td>2655</td>\n",
              "      <td>BB-INDORE-MALHAR MEGA MALL</td>\n",
              "      <td>8</td>\n",
              "      <td>78829</td>\n",
              "      <td>NONPROMO</td>\n",
              "      <td>NaN</td>\n",
              "      <td>1000010431</td>\n",
              "      <td>SOO FRESH ROLLS HOT DOG 4P</td>\n",
              "      <td>30.00</td>\n",
              "      <td>Payback</td>\n",
              "    </tr>\n",
              "    <tr>\n",
              "      <th>2</th>\n",
              "      <td>BBID_20498</td>\n",
              "      <td>1981-03-19</td>\n",
              "      <td>female</td>\n",
              "      <td>MAHARASHTRA</td>\n",
              "      <td>400064.0</td>\n",
              "      <td>2015-08-12</td>\n",
              "      <td>2655</td>\n",
              "      <td>BB-INDORE-MALHAR MEGA MALL</td>\n",
              "      <td>13</td>\n",
              "      <td>1064</td>\n",
              "      <td>0000971754</td>\n",
              "      <td>AD 399 FLAT LADIES JEANS  FASHION EXC</td>\n",
              "      <td>1000077851005</td>\n",
              "      <td>DLJ-0010-BSF-2-CJ-FL, 34, BLACK</td>\n",
              "      <td>418.95</td>\n",
              "      <td>Payback</td>\n",
              "    </tr>\n",
              "    <tr>\n",
              "      <th>3</th>\n",
              "      <td>BBID_20499</td>\n",
              "      <td>1986-05-10</td>\n",
              "      <td>male</td>\n",
              "      <td>MAHARASHTRA</td>\n",
              "      <td>400099.0</td>\n",
              "      <td>2016-12-18</td>\n",
              "      <td>2615</td>\n",
              "      <td>BB-AMRITSAR-TRILIUM MALL</td>\n",
              "      <td>14</td>\n",
              "      <td>51080</td>\n",
              "      <td>NONPROMO</td>\n",
              "      <td>NaN</td>\n",
              "      <td>1000443231</td>\n",
              "      <td>PATANJALI TOMATO KETCHUP BT 500g</td>\n",
              "      <td>70.00</td>\n",
              "      <td>Payback</td>\n",
              "    </tr>\n",
              "    <tr>\n",
              "      <th>4</th>\n",
              "      <td>BBID_204110</td>\n",
              "      <td>1988-02-29</td>\n",
              "      <td>male</td>\n",
              "      <td>MADHYA PRADESH</td>\n",
              "      <td>474001.0</td>\n",
              "      <td>2015-12-31</td>\n",
              "      <td>2655</td>\n",
              "      <td>BB-INDORE-MALHAR MEGA MALL</td>\n",
              "      <td>9</td>\n",
              "      <td>21911</td>\n",
              "      <td>0000974126</td>\n",
              "      <td>NMP 5% OFF CONCEPT DISCOUNT 2655</td>\n",
              "      <td>300481741</td>\n",
              "      <td>MAGGI NDL MERI MASALA PP 70g</td>\n",
              "      <td>34.20</td>\n",
              "      <td>Payback</td>\n",
              "    </tr>\n",
              "  </tbody>\n",
              "</table>\n",
              "</div>"
            ],
            "text/plain": [
              "    customerID         DOB  ... sale_price_after_promo discountUsed\n",
              "0   BBID_20482  1975-10-20  ...                  55.00      Payback\n",
              "1   BBID_20485  1955-07-21  ...                  30.00      Payback\n",
              "2   BBID_20498  1981-03-19  ...                 418.95      Payback\n",
              "3   BBID_20499  1986-05-10  ...                  70.00      Payback\n",
              "4  BBID_204110  1988-02-29  ...                  34.20      Payback\n",
              "\n",
              "[5 rows x 16 columns]"
            ]
          },
          "metadata": {
            "tags": []
          },
          "execution_count": 3
        }
      ]
    },
    {
      "cell_type": "code",
      "metadata": {
        "colab": {
          "base_uri": "https://localhost:8080/",
          "height": 308
        },
        "id": "WQyL3yun1WxF",
        "outputId": "c1737e93-ba4d-4770-a292-e000f628b8f9"
      },
      "source": [
        "tender.head()"
      ],
      "execution_count": 4,
      "outputs": [
        {
          "output_type": "execute_result",
          "data": {
            "text/html": [
              "<div>\n",
              "<style scoped>\n",
              "    .dataframe tbody tr th:only-of-type {\n",
              "        vertical-align: middle;\n",
              "    }\n",
              "\n",
              "    .dataframe tbody tr th {\n",
              "        vertical-align: top;\n",
              "    }\n",
              "\n",
              "    .dataframe thead th {\n",
              "        text-align: right;\n",
              "    }\n",
              "</style>\n",
              "<table border=\"1\" class=\"dataframe\">\n",
              "  <thead>\n",
              "    <tr style=\"text-align: right;\">\n",
              "      <th></th>\n",
              "      <th>customerID</th>\n",
              "      <th>DOB</th>\n",
              "      <th>Gender</th>\n",
              "      <th>State</th>\n",
              "      <th>PinCode</th>\n",
              "      <th>transactionDate</th>\n",
              "      <th>store_code</th>\n",
              "      <th>store_description</th>\n",
              "      <th>till_no</th>\n",
              "      <th>tender_type</th>\n",
              "      <th>transaction_number_by_till</th>\n",
              "      <th>payment_amount_by_tender</th>\n",
              "      <th>PaymentUsed</th>\n",
              "    </tr>\n",
              "  </thead>\n",
              "  <tbody>\n",
              "    <tr>\n",
              "      <th>0</th>\n",
              "      <td>BBID_2044</td>\n",
              "      <td>1984-04-02</td>\n",
              "      <td>male</td>\n",
              "      <td>NaN</td>\n",
              "      <td>626125.0</td>\n",
              "      <td>2015-09-03</td>\n",
              "      <td>4986</td>\n",
              "      <td>BB-MADURAI-KOCHADAI VILLAGE</td>\n",
              "      <td>22</td>\n",
              "      <td>GVOWN</td>\n",
              "      <td>9208</td>\n",
              "      <td>1000.00</td>\n",
              "      <td>GiftVoucher</td>\n",
              "    </tr>\n",
              "    <tr>\n",
              "      <th>1</th>\n",
              "      <td>BBID_2044</td>\n",
              "      <td>1984-04-02</td>\n",
              "      <td>male</td>\n",
              "      <td>NaN</td>\n",
              "      <td>626125.0</td>\n",
              "      <td>2015-09-03</td>\n",
              "      <td>4986</td>\n",
              "      <td>BB-MADURAI-KOCHADAI VILLAGE</td>\n",
              "      <td>22</td>\n",
              "      <td>CASH</td>\n",
              "      <td>9208</td>\n",
              "      <td>10.46</td>\n",
              "      <td>CASH</td>\n",
              "    </tr>\n",
              "    <tr>\n",
              "      <th>2</th>\n",
              "      <td>BBID_2044</td>\n",
              "      <td>1984-04-02</td>\n",
              "      <td>male</td>\n",
              "      <td>NaN</td>\n",
              "      <td>626125.0</td>\n",
              "      <td>2016-04-17</td>\n",
              "      <td>4986</td>\n",
              "      <td>BB-MADURAI-KOCHADAI VILLAGE</td>\n",
              "      <td>19</td>\n",
              "      <td>EDCAXIS</td>\n",
              "      <td>90269</td>\n",
              "      <td>677.28</td>\n",
              "      <td>AXIS</td>\n",
              "    </tr>\n",
              "    <tr>\n",
              "      <th>3</th>\n",
              "      <td>BBID_2044</td>\n",
              "      <td>1984-04-02</td>\n",
              "      <td>male</td>\n",
              "      <td>NaN</td>\n",
              "      <td>626125.0</td>\n",
              "      <td>2016-04-17</td>\n",
              "      <td>4986</td>\n",
              "      <td>BB-MADURAI-KOCHADAI VILLAGE</td>\n",
              "      <td>19</td>\n",
              "      <td>MOBI</td>\n",
              "      <td>90268</td>\n",
              "      <td>1042.00</td>\n",
              "      <td>One MobiKwik Systems</td>\n",
              "    </tr>\n",
              "    <tr>\n",
              "      <th>4</th>\n",
              "      <td>BBID_2044</td>\n",
              "      <td>1984-04-02</td>\n",
              "      <td>male</td>\n",
              "      <td>NaN</td>\n",
              "      <td>626125.0</td>\n",
              "      <td>2016-04-17</td>\n",
              "      <td>4986</td>\n",
              "      <td>BB-MADURAI-KOCHADAI VILLAGE</td>\n",
              "      <td>19</td>\n",
              "      <td>MOBI</td>\n",
              "      <td>90269</td>\n",
              "      <td>1000.00</td>\n",
              "      <td>One MobiKwik Systems</td>\n",
              "    </tr>\n",
              "  </tbody>\n",
              "</table>\n",
              "</div>"
            ],
            "text/plain": [
              "  customerID         DOB  ... payment_amount_by_tender           PaymentUsed\n",
              "0  BBID_2044  1984-04-02  ...                  1000.00           GiftVoucher\n",
              "1  BBID_2044  1984-04-02  ...                    10.46                  CASH\n",
              "2  BBID_2044  1984-04-02  ...                   677.28                  AXIS\n",
              "3  BBID_2044  1984-04-02  ...                  1042.00  One MobiKwik Systems\n",
              "4  BBID_2044  1984-04-02  ...                  1000.00  One MobiKwik Systems\n",
              "\n",
              "[5 rows x 13 columns]"
            ]
          },
          "metadata": {
            "tags": []
          },
          "execution_count": 4
        }
      ]
    },
    {
      "cell_type": "markdown",
      "metadata": {
        "id": "TF0ffnEx_IXb"
      },
      "source": [
        "### Handling Missing values"
      ]
    },
    {
      "cell_type": "code",
      "metadata": {
        "collapsed": true,
        "id": "YtT_nLue1WxF"
      },
      "source": [
        "products['promotion_description'].fillna('no_promo', inplace=True)\n",
        "products['Gender'].fillna('no_gender', inplace=True)\n",
        "products['State'].fillna('no_state', inplace=True)\n",
        "products['PinCode'].fillna(-1, inplace=True)\n",
        "products['DOB'].fillna(\"1\", inplace=True)"
      ],
      "execution_count": 5,
      "outputs": []
    },
    {
      "cell_type": "markdown",
      "metadata": {
        "id": "Chz9hLXzBAlu"
      },
      "source": [
        "### Converting data into numeric / float"
      ]
    },
    {
      "cell_type": "code",
      "metadata": {
        "id": "2AeLfWZxAwZf"
      },
      "source": [
        "for c in products.columns:\n",
        "    lbl = LabelEncoder()\n",
        "    if products[c].dtype == 'object' and c not in ['store_description','customerID','transactionDate']:\n",
        "        products[c] = lbl.fit_transform(products[c])"
      ],
      "execution_count": 6,
      "outputs": []
    },
    {
      "cell_type": "code",
      "metadata": {
        "colab": {
          "base_uri": "https://localhost:8080/"
        },
        "id": "3l9Zru6LA__y",
        "outputId": "6a38bfa6-67ab-4251-acb6-6728e427fad6"
      },
      "source": [
        "products.info()"
      ],
      "execution_count": 7,
      "outputs": [
        {
          "output_type": "stream",
          "text": [
            "<class 'pandas.core.frame.DataFrame'>\n",
            "RangeIndex: 11972 entries, 0 to 11971\n",
            "Data columns (total 16 columns):\n",
            " #   Column                      Non-Null Count  Dtype  \n",
            "---  ------                      --------------  -----  \n",
            " 0   customerID                  11972 non-null  object \n",
            " 1   DOB                         11972 non-null  int64  \n",
            " 2   Gender                      11972 non-null  int64  \n",
            " 3   State                       11972 non-null  int64  \n",
            " 4   PinCode                     11972 non-null  float64\n",
            " 5   transactionDate             11972 non-null  object \n",
            " 6   store_code                  11972 non-null  int64  \n",
            " 7   store_description           11972 non-null  object \n",
            " 8   till_no                     11972 non-null  int64  \n",
            " 9   transaction_number_by_till  11972 non-null  int64  \n",
            " 10  promo_code                  11972 non-null  int64  \n",
            " 11  promotion_description       11972 non-null  int64  \n",
            " 12  product_code                11972 non-null  int64  \n",
            " 13  product_description         11972 non-null  int64  \n",
            " 14  sale_price_after_promo      11972 non-null  float64\n",
            " 15  discountUsed                11972 non-null  int64  \n",
            "dtypes: float64(2), int64(11), object(3)\n",
            "memory usage: 1.5+ MB\n"
          ],
          "name": "stdout"
        }
      ]
    },
    {
      "cell_type": "code",
      "metadata": {
        "colab": {
          "base_uri": "https://localhost:8080/",
          "height": 164
        },
        "id": "pQxrDTxwBJdo",
        "outputId": "9f739652-0dce-4517-af00-4043de0e7b4e"
      },
      "source": [
        "products.head(2)"
      ],
      "execution_count": 8,
      "outputs": [
        {
          "output_type": "execute_result",
          "data": {
            "text/html": [
              "<div>\n",
              "<style scoped>\n",
              "    .dataframe tbody tr th:only-of-type {\n",
              "        vertical-align: middle;\n",
              "    }\n",
              "\n",
              "    .dataframe tbody tr th {\n",
              "        vertical-align: top;\n",
              "    }\n",
              "\n",
              "    .dataframe thead th {\n",
              "        text-align: right;\n",
              "    }\n",
              "</style>\n",
              "<table border=\"1\" class=\"dataframe\">\n",
              "  <thead>\n",
              "    <tr style=\"text-align: right;\">\n",
              "      <th></th>\n",
              "      <th>customerID</th>\n",
              "      <th>DOB</th>\n",
              "      <th>Gender</th>\n",
              "      <th>State</th>\n",
              "      <th>PinCode</th>\n",
              "      <th>transactionDate</th>\n",
              "      <th>store_code</th>\n",
              "      <th>store_description</th>\n",
              "      <th>till_no</th>\n",
              "      <th>transaction_number_by_till</th>\n",
              "      <th>promo_code</th>\n",
              "      <th>promotion_description</th>\n",
              "      <th>product_code</th>\n",
              "      <th>product_description</th>\n",
              "      <th>sale_price_after_promo</th>\n",
              "      <th>discountUsed</th>\n",
              "    </tr>\n",
              "  </thead>\n",
              "  <tbody>\n",
              "    <tr>\n",
              "      <th>0</th>\n",
              "      <td>BBID_20482</td>\n",
              "      <td>3108</td>\n",
              "      <td>1</td>\n",
              "      <td>20</td>\n",
              "      <td>453441.0</td>\n",
              "      <td>2016-05-01</td>\n",
              "      <td>2655</td>\n",
              "      <td>BB-INDORE-MALHAR MEGA MALL</td>\n",
              "      <td>2</td>\n",
              "      <td>85246</td>\n",
              "      <td>2213</td>\n",
              "      <td>2010</td>\n",
              "      <td>1000446431</td>\n",
              "      <td>4269</td>\n",
              "      <td>55.0</td>\n",
              "      <td>24</td>\n",
              "    </tr>\n",
              "    <tr>\n",
              "      <th>1</th>\n",
              "      <td>BBID_20485</td>\n",
              "      <td>594</td>\n",
              "      <td>0</td>\n",
              "      <td>36</td>\n",
              "      <td>999999.0</td>\n",
              "      <td>2017-03-09</td>\n",
              "      <td>2655</td>\n",
              "      <td>BB-INDORE-MALHAR MEGA MALL</td>\n",
              "      <td>8</td>\n",
              "      <td>78829</td>\n",
              "      <td>2213</td>\n",
              "      <td>2010</td>\n",
              "      <td>1000010431</td>\n",
              "      <td>5121</td>\n",
              "      <td>30.0</td>\n",
              "      <td>24</td>\n",
              "    </tr>\n",
              "  </tbody>\n",
              "</table>\n",
              "</div>"
            ],
            "text/plain": [
              "   customerID   DOB  ...  sale_price_after_promo  discountUsed\n",
              "0  BBID_20482  3108  ...                    55.0            24\n",
              "1  BBID_20485   594  ...                    30.0            24\n",
              "\n",
              "[2 rows x 16 columns]"
            ]
          },
          "metadata": {
            "tags": []
          },
          "execution_count": 8
        }
      ]
    },
    {
      "cell_type": "code",
      "metadata": {
        "colab": {
          "base_uri": "https://localhost:8080/",
          "height": 452
        },
        "id": "9Vfo0A1RBcb1",
        "outputId": "86e1dc88-fdaa-4b72-a49d-7b173ded072d"
      },
      "source": [
        "by_store_desc = products.groupby(\"store_description\")\n",
        "by_store_desc.mean()"
      ],
      "execution_count": 9,
      "outputs": [
        {
          "output_type": "execute_result",
          "data": {
            "text/html": [
              "<div>\n",
              "<style scoped>\n",
              "    .dataframe tbody tr th:only-of-type {\n",
              "        vertical-align: middle;\n",
              "    }\n",
              "\n",
              "    .dataframe tbody tr th {\n",
              "        vertical-align: top;\n",
              "    }\n",
              "\n",
              "    .dataframe thead th {\n",
              "        text-align: right;\n",
              "    }\n",
              "</style>\n",
              "<table border=\"1\" class=\"dataframe\">\n",
              "  <thead>\n",
              "    <tr style=\"text-align: right;\">\n",
              "      <th></th>\n",
              "      <th>DOB</th>\n",
              "      <th>Gender</th>\n",
              "      <th>State</th>\n",
              "      <th>PinCode</th>\n",
              "      <th>store_code</th>\n",
              "      <th>till_no</th>\n",
              "      <th>transaction_number_by_till</th>\n",
              "      <th>promo_code</th>\n",
              "      <th>promotion_description</th>\n",
              "      <th>product_code</th>\n",
              "      <th>product_description</th>\n",
              "      <th>sale_price_after_promo</th>\n",
              "      <th>discountUsed</th>\n",
              "    </tr>\n",
              "    <tr>\n",
              "      <th>store_description</th>\n",
              "      <th></th>\n",
              "      <th></th>\n",
              "      <th></th>\n",
              "      <th></th>\n",
              "      <th></th>\n",
              "      <th></th>\n",
              "      <th></th>\n",
              "      <th></th>\n",
              "      <th></th>\n",
              "      <th></th>\n",
              "      <th></th>\n",
              "      <th></th>\n",
              "      <th></th>\n",
              "    </tr>\n",
              "  </thead>\n",
              "  <tbody>\n",
              "    <tr>\n",
              "      <th>BB-AMRITSAR-TRILIUM MALL</th>\n",
              "      <td>3285.408022</td>\n",
              "      <td>0.854772</td>\n",
              "      <td>26.349931</td>\n",
              "      <td>156611.124481</td>\n",
              "      <td>2615.0</td>\n",
              "      <td>8.968188</td>\n",
              "      <td>49042.356846</td>\n",
              "      <td>1882.461964</td>\n",
              "      <td>1458.235131</td>\n",
              "      <td>1.140550e+11</td>\n",
              "      <td>2847.396957</td>\n",
              "      <td>186.455380</td>\n",
              "      <td>8.290456</td>\n",
              "    </tr>\n",
              "    <tr>\n",
              "      <th>BB-HUBLI-GOKUL ROAD-AKSHAY CEN</th>\n",
              "      <td>2943.606575</td>\n",
              "      <td>0.914379</td>\n",
              "      <td>19.336705</td>\n",
              "      <td>532821.248916</td>\n",
              "      <td>4796.0</td>\n",
              "      <td>10.396676</td>\n",
              "      <td>48774.490968</td>\n",
              "      <td>1913.524205</td>\n",
              "      <td>1707.052384</td>\n",
              "      <td>9.096180e+10</td>\n",
              "      <td>3025.423410</td>\n",
              "      <td>150.773916</td>\n",
              "      <td>22.810332</td>\n",
              "    </tr>\n",
              "    <tr>\n",
              "      <th>BB-INDORE-MALHAR MEGA MALL</th>\n",
              "      <td>3967.847488</td>\n",
              "      <td>0.812794</td>\n",
              "      <td>22.549693</td>\n",
              "      <td>452809.792917</td>\n",
              "      <td>2655.0</td>\n",
              "      <td>7.179256</td>\n",
              "      <td>44456.108782</td>\n",
              "      <td>1964.325623</td>\n",
              "      <td>1779.710878</td>\n",
              "      <td>7.976166e+10</td>\n",
              "      <td>2929.641850</td>\n",
              "      <td>133.752280</td>\n",
              "      <td>18.117456</td>\n",
              "    </tr>\n",
              "    <tr>\n",
              "      <th>BB-INDORE-TREASURE ISLAND</th>\n",
              "      <td>4150.093079</td>\n",
              "      <td>0.735084</td>\n",
              "      <td>22.052506</td>\n",
              "      <td>473512.361177</td>\n",
              "      <td>2906.0</td>\n",
              "      <td>8.151949</td>\n",
              "      <td>36687.421639</td>\n",
              "      <td>2027.683373</td>\n",
              "      <td>1784.295147</td>\n",
              "      <td>1.386935e+11</td>\n",
              "      <td>2901.189340</td>\n",
              "      <td>139.138043</td>\n",
              "      <td>20.318218</td>\n",
              "    </tr>\n",
              "    <tr>\n",
              "      <th>BB-JAMSHEDPUR-NH-33</th>\n",
              "      <td>3477.519906</td>\n",
              "      <td>0.863232</td>\n",
              "      <td>18.256674</td>\n",
              "      <td>759948.907728</td>\n",
              "      <td>4843.0</td>\n",
              "      <td>10.494145</td>\n",
              "      <td>51589.503981</td>\n",
              "      <td>1837.851522</td>\n",
              "      <td>1605.162061</td>\n",
              "      <td>7.954487e+10</td>\n",
              "      <td>2849.703513</td>\n",
              "      <td>151.799522</td>\n",
              "      <td>23.189227</td>\n",
              "    </tr>\n",
              "    <tr>\n",
              "      <th>BB-LUDHIANA-FEROZEPUR-MF</th>\n",
              "      <td>3770.128920</td>\n",
              "      <td>0.860627</td>\n",
              "      <td>25.757840</td>\n",
              "      <td>151556.721254</td>\n",
              "      <td>3692.0</td>\n",
              "      <td>5.205575</td>\n",
              "      <td>50358.003484</td>\n",
              "      <td>1902.461672</td>\n",
              "      <td>1408.918118</td>\n",
              "      <td>1.050238e+11</td>\n",
              "      <td>2826.041812</td>\n",
              "      <td>158.998798</td>\n",
              "      <td>12.562718</td>\n",
              "    </tr>\n",
              "    <tr>\n",
              "      <th>BB-MADURAI-KOCHADAI VILLAGE</th>\n",
              "      <td>3326.441648</td>\n",
              "      <td>0.794050</td>\n",
              "      <td>29.400458</td>\n",
              "      <td>572335.250000</td>\n",
              "      <td>4986.0</td>\n",
              "      <td>13.080092</td>\n",
              "      <td>52882.939931</td>\n",
              "      <td>1892.247140</td>\n",
              "      <td>1764.308352</td>\n",
              "      <td>8.145967e+10</td>\n",
              "      <td>2775.545767</td>\n",
              "      <td>141.628381</td>\n",
              "      <td>22.613272</td>\n",
              "    </tr>\n",
              "  </tbody>\n",
              "</table>\n",
              "</div>"
            ],
            "text/plain": [
              "                                        DOB  ...  discountUsed\n",
              "store_description                            ...              \n",
              "BB-AMRITSAR-TRILIUM MALL        3285.408022  ...      8.290456\n",
              "BB-HUBLI-GOKUL ROAD-AKSHAY CEN  2943.606575  ...     22.810332\n",
              "BB-INDORE-MALHAR MEGA MALL      3967.847488  ...     18.117456\n",
              "BB-INDORE-TREASURE ISLAND       4150.093079  ...     20.318218\n",
              "BB-JAMSHEDPUR-NH-33             3477.519906  ...     23.189227\n",
              "BB-LUDHIANA-FEROZEPUR-MF        3770.128920  ...     12.562718\n",
              "BB-MADURAI-KOCHADAI VILLAGE     3326.441648  ...     22.613272\n",
              "\n",
              "[7 rows x 13 columns]"
            ]
          },
          "metadata": {
            "tags": []
          },
          "execution_count": 9
        }
      ]
    },
    {
      "cell_type": "code",
      "metadata": {
        "id": "ZUvD8CfKBef9"
      },
      "source": [
        "df = products \n",
        "df['transactionDate'] = pd.to_datetime(df['transactionDate'])"
      ],
      "execution_count": 10,
      "outputs": []
    },
    {
      "cell_type": "code",
      "metadata": {
        "colab": {
          "base_uri": "https://localhost:8080/"
        },
        "id": "sdo0a2G3Bjr6",
        "outputId": "f417bcb2-79ed-450c-e9e1-49fa7113bc58"
      },
      "source": [
        "type(df['transactionDate'].iloc[0])"
      ],
      "execution_count": 11,
      "outputs": [
        {
          "output_type": "execute_result",
          "data": {
            "text/plain": [
              "pandas._libs.tslibs.timestamps.Timestamp"
            ]
          },
          "metadata": {
            "tags": []
          },
          "execution_count": 11
        }
      ]
    },
    {
      "cell_type": "code",
      "metadata": {
        "id": "jqkBKSHxBmTK"
      },
      "source": [
        "if(df['customerID'].iloc[0].split('_')[0] != 'BBID'):\n",
        "    df['customerID'] = df['customerID'].apply(lambda bbid: \"BBID_\"+bbid)"
      ],
      "execution_count": 12,
      "outputs": []
    },
    {
      "cell_type": "code",
      "metadata": {
        "id": "tD18sT1NBpIr"
      },
      "source": [
        "stores = list(set(df['store_code']))\n",
        "\n",
        "cluster_labels = []\n",
        "cluster_store = []\n",
        "cluster_data = []\n",
        "cluster_customers = []\n",
        "cluster_score = []\n",
        "\n",
        "for x in stores:\n",
        "    cld = df[df['store_code'] == x]\n",
        "    cluster_customers.append(cld['customerID'])\n",
        "    cld.drop(['store_code','customerID','transactionDate','store_description'], axis=1, inplace=True)\n",
        "    \n",
        "    rbs = RobustScaler()\n",
        "    cld2 = rbs.fit_transform(cld)\n",
        "    \n",
        "    km1 = KMeans(n_clusters=6)\n",
        "    km2 = km1.fit(cld2)\n",
        "    label = km2.predict(cld2)\n",
        "    \n",
        "    s_score = silhouette_score(cld2, label)\n",
        "    cluster_score.append(s_score)\n",
        "    \n",
        "    cluster_labels.append(label)\n",
        "    cluster_store.append(np.repeat(x, cld.shape[0]))\n",
        "    cluster_data.append(cld2)"
      ],
      "execution_count": 13,
      "outputs": []
    },
    {
      "cell_type": "code",
      "metadata": {
        "id": "JEZl2BiGBtge"
      },
      "source": [
        "## merge list into ndarray\n",
        "cluster_data = np.concatenate(cluster_data)\n",
        "## convert nested lists as 1d array\n",
        "cluster_customers = np.concatenate(cluster_customers)\n",
        "cluster_store = np.concatenate(cluster_store)\n",
        "cluster_labels = np.concatenate(cluster_labels)"
      ],
      "execution_count": 14,
      "outputs": []
    },
    {
      "cell_type": "markdown",
      "metadata": {
        "id": "NozUXc9WCPsO"
      },
      "source": [
        "### Creating submission files"
      ]
    },
    {
      "cell_type": "code",
      "metadata": {
        "id": "qbprJXgRB-ge"
      },
      "source": [
        "sub1 = pd.DataFrame({'customerID':cluster_customers, 'store_code':cluster_store, 'cluster':cluster_labels})"
      ],
      "execution_count": 15,
      "outputs": []
    },
    {
      "cell_type": "code",
      "metadata": {
        "id": "09l63Td6B-_5"
      },
      "source": [
        "np.savetxt('subOne_18.txt', cluster_data)\n",
        "sub1.to_csv('subtwo_18.csv', index=False)"
      ],
      "execution_count": 16,
      "outputs": []
    },
    {
      "cell_type": "code",
      "metadata": {
        "id": "wStY-9Z_CC0G"
      },
      "source": [
        "cluster_customers_number = []\n",
        "for x in cluster_customers:\n",
        "    cluster_customers_number.append(x.split('_')[1])\n",
        "cluster_customers_number = np.array(cluster_customers_number)"
      ],
      "execution_count": 17,
      "outputs": []
    },
    {
      "cell_type": "code",
      "metadata": {
        "id": "wzrRXtoZCEzh"
      },
      "source": [
        "df['customerID'] = df['customerID'].apply(lambda num: num.split('_')[1])"
      ],
      "execution_count": 18,
      "outputs": []
    },
    {
      "cell_type": "code",
      "metadata": {
        "colab": {
          "base_uri": "https://localhost:8080/",
          "height": 282
        },
        "id": "tWkMgFC1CH_d",
        "outputId": "7cdac13a-7cf3-4590-b79b-8c58c209f9cd"
      },
      "source": [
        "plt.scatter(cluster_customers_number,cluster_store,c=cluster_labels,cmap='rainbow')"
      ],
      "execution_count": 19,
      "outputs": [
        {
          "output_type": "execute_result",
          "data": {
            "text/plain": [
              "<matplotlib.collections.PathCollection at 0x7f07ba2d0f28>"
            ]
          },
          "metadata": {
            "tags": []
          },
          "execution_count": 19
        },
        {
          "output_type": "display_data",
          "data": {
            "image/png": "[encoded data removed]",
            "text/plain": [
              "<Figure size 432x288 with 1 Axes>"
            ]
          },
          "metadata": {
            "tags": [],
            "needs_background": "light"
          }
        }
      ]
    },
    {
      "cell_type": "code",
      "metadata": {
        "id": "3t92gQEICJlV"
      },
      "source": [
        "def converter(store_desc):\n",
        "    if store_desc=='BB-AMRITSAR-TRILIUM MALL':\n",
        "        return 1\n",
        "    elif store_desc=='BB-HUBLI-GOKUL ROAD-AKSHAY CEN':\n",
        "        return 2\n",
        "    elif store_desc=='BB-INDORE-MALHAR MEGA MALL':\n",
        "        return 3\n",
        "    elif store_desc=='BB-INDORE-TREASURE ISLAND':\n",
        "        return 4\n",
        "    elif store_desc=='BB-JAMSHEDPUR-NH-33':\n",
        "        return 5\n",
        "    elif store_desc=='BB-LUDHIANA-FEROZEPUR-MF':\n",
        "        return 6\n",
        "    elif store_desc=='BB-MADURAI-KOCHADAI VILLAGE':\n",
        "        return 7\n",
        "    else:\n",
        "        return 8\n",
        "\n",
        "df['store_description_no'] = df['store_description'].apply(converter) "
      ],
      "execution_count": 20,
      "outputs": []
    },
    {
      "cell_type": "code",
      "metadata": {
        "id": "ZlJJ_fJpCozH"
      },
      "source": [
        "df.drop('store_description',axis=1,inplace=True)"
      ],
      "execution_count": 21,
      "outputs": []
    },
    {
      "cell_type": "code",
      "metadata": {
        "colab": {
          "base_uri": "https://localhost:8080/",
          "height": 130
        },
        "id": "Pct6aibOC0Tc",
        "outputId": "810210a2-30ec-41aa-88af-9d3507972acd"
      },
      "source": [
        "df.head(2)"
      ],
      "execution_count": 22,
      "outputs": [
        {
          "output_type": "execute_result",
          "data": {
            "text/html": [
              "<div>\n",
              "<style scoped>\n",
              "    .dataframe tbody tr th:only-of-type {\n",
              "        vertical-align: middle;\n",
              "    }\n",
              "\n",
              "    .dataframe tbody tr th {\n",
              "        vertical-align: top;\n",
              "    }\n",
              "\n",
              "    .dataframe thead th {\n",
              "        text-align: right;\n",
              "    }\n",
              "</style>\n",
              "<table border=\"1\" class=\"dataframe\">\n",
              "  <thead>\n",
              "    <tr style=\"text-align: right;\">\n",
              "      <th></th>\n",
              "      <th>customerID</th>\n",
              "      <th>DOB</th>\n",
              "      <th>Gender</th>\n",
              "      <th>State</th>\n",
              "      <th>PinCode</th>\n",
              "      <th>transactionDate</th>\n",
              "      <th>store_code</th>\n",
              "      <th>till_no</th>\n",
              "      <th>transaction_number_by_till</th>\n",
              "      <th>promo_code</th>\n",
              "      <th>promotion_description</th>\n",
              "      <th>product_code</th>\n",
              "      <th>product_description</th>\n",
              "      <th>sale_price_after_promo</th>\n",
              "      <th>discountUsed</th>\n",
              "      <th>store_description_no</th>\n",
              "    </tr>\n",
              "  </thead>\n",
              "  <tbody>\n",
              "    <tr>\n",
              "      <th>0</th>\n",
              "      <td>20482</td>\n",
              "      <td>3108</td>\n",
              "      <td>1</td>\n",
              "      <td>20</td>\n",
              "      <td>453441.0</td>\n",
              "      <td>2016-05-01</td>\n",
              "      <td>2655</td>\n",
              "      <td>2</td>\n",
              "      <td>85246</td>\n",
              "      <td>2213</td>\n",
              "      <td>2010</td>\n",
              "      <td>1000446431</td>\n",
              "      <td>4269</td>\n",
              "      <td>55.0</td>\n",
              "      <td>24</td>\n",
              "      <td>3</td>\n",
              "    </tr>\n",
              "    <tr>\n",
              "      <th>1</th>\n",
              "      <td>20485</td>\n",
              "      <td>594</td>\n",
              "      <td>0</td>\n",
              "      <td>36</td>\n",
              "      <td>999999.0</td>\n",
              "      <td>2017-03-09</td>\n",
              "      <td>2655</td>\n",
              "      <td>8</td>\n",
              "      <td>78829</td>\n",
              "      <td>2213</td>\n",
              "      <td>2010</td>\n",
              "      <td>1000010431</td>\n",
              "      <td>5121</td>\n",
              "      <td>30.0</td>\n",
              "      <td>24</td>\n",
              "      <td>3</td>\n",
              "    </tr>\n",
              "  </tbody>\n",
              "</table>\n",
              "</div>"
            ],
            "text/plain": [
              "  customerID   DOB  ...  discountUsed  store_description_no\n",
              "0      20482  3108  ...            24                     3\n",
              "1      20485   594  ...            24                     3\n",
              "\n",
              "[2 rows x 16 columns]"
            ]
          },
          "metadata": {
            "tags": []
          },
          "execution_count": 22
        }
      ]
    },
    {
      "cell_type": "code",
      "metadata": {
        "colab": {
          "base_uri": "https://localhost:8080/"
        },
        "id": "CfKf56lqC2H7",
        "outputId": "1d28e828-8598-44e1-c48a-40a712c17af6"
      },
      "source": [
        "df['transactionDate'].iloc[0].month"
      ],
      "execution_count": 23,
      "outputs": [
        {
          "output_type": "execute_result",
          "data": {
            "text/plain": [
              "5"
            ]
          },
          "metadata": {
            "tags": []
          },
          "execution_count": 23
        }
      ]
    },
    {
      "cell_type": "code",
      "metadata": {
        "id": "cT-7WB0DC4at"
      },
      "source": [
        "years = []\n",
        "months = []\n",
        "weekdays = []\n",
        "for x in df['transactionDate']:\n",
        "    years.append(x.year)\n",
        "for x in df['transactionDate']:\n",
        "    months.append(x.month)\n",
        "for x in df['transactionDate']:\n",
        "    weekdays.append(x.weekday())\n",
        "df['Year'] = np.array(years)\n",
        "df['Month'] = np.array(months)\n",
        "df['Weekday'] = np.array(weekdays)"
      ],
      "execution_count": 24,
      "outputs": []
    },
    {
      "cell_type": "code",
      "metadata": {
        "colab": {
          "base_uri": "https://localhost:8080/",
          "height": 130
        },
        "id": "BhjJU0V-C69C",
        "outputId": "e2482fe7-1040-4337-bc0b-ba5abbad87e7"
      },
      "source": [
        "df.head(2)"
      ],
      "execution_count": 25,
      "outputs": [
        {
          "output_type": "execute_result",
          "data": {
            "text/html": [
              "<div>\n",
              "<style scoped>\n",
              "    .dataframe tbody tr th:only-of-type {\n",
              "        vertical-align: middle;\n",
              "    }\n",
              "\n",
              "    .dataframe tbody tr th {\n",
              "        vertical-align: top;\n",
              "    }\n",
              "\n",
              "    .dataframe thead th {\n",
              "        text-align: right;\n",
              "    }\n",
              "</style>\n",
              "<table border=\"1\" class=\"dataframe\">\n",
              "  <thead>\n",
              "    <tr style=\"text-align: right;\">\n",
              "      <th></th>\n",
              "      <th>customerID</th>\n",
              "      <th>DOB</th>\n",
              "      <th>Gender</th>\n",
              "      <th>State</th>\n",
              "      <th>PinCode</th>\n",
              "      <th>transactionDate</th>\n",
              "      <th>store_code</th>\n",
              "      <th>till_no</th>\n",
              "      <th>transaction_number_by_till</th>\n",
              "      <th>promo_code</th>\n",
              "      <th>promotion_description</th>\n",
              "      <th>product_code</th>\n",
              "      <th>product_description</th>\n",
              "      <th>sale_price_after_promo</th>\n",
              "      <th>discountUsed</th>\n",
              "      <th>store_description_no</th>\n",
              "      <th>Year</th>\n",
              "      <th>Month</th>\n",
              "      <th>Weekday</th>\n",
              "    </tr>\n",
              "  </thead>\n",
              "  <tbody>\n",
              "    <tr>\n",
              "      <th>0</th>\n",
              "      <td>20482</td>\n",
              "      <td>3108</td>\n",
              "      <td>1</td>\n",
              "      <td>20</td>\n",
              "      <td>453441.0</td>\n",
              "      <td>2016-05-01</td>\n",
              "      <td>2655</td>\n",
              "      <td>2</td>\n",
              "      <td>85246</td>\n",
              "      <td>2213</td>\n",
              "      <td>2010</td>\n",
              "      <td>1000446431</td>\n",
              "      <td>4269</td>\n",
              "      <td>55.0</td>\n",
              "      <td>24</td>\n",
              "      <td>3</td>\n",
              "      <td>2016</td>\n",
              "      <td>5</td>\n",
              "      <td>6</td>\n",
              "    </tr>\n",
              "    <tr>\n",
              "      <th>1</th>\n",
              "      <td>20485</td>\n",
              "      <td>594</td>\n",
              "      <td>0</td>\n",
              "      <td>36</td>\n",
              "      <td>999999.0</td>\n",
              "      <td>2017-03-09</td>\n",
              "      <td>2655</td>\n",
              "      <td>8</td>\n",
              "      <td>78829</td>\n",
              "      <td>2213</td>\n",
              "      <td>2010</td>\n",
              "      <td>1000010431</td>\n",
              "      <td>5121</td>\n",
              "      <td>30.0</td>\n",
              "      <td>24</td>\n",
              "      <td>3</td>\n",
              "      <td>2017</td>\n",
              "      <td>3</td>\n",
              "      <td>3</td>\n",
              "    </tr>\n",
              "  </tbody>\n",
              "</table>\n",
              "</div>"
            ],
            "text/plain": [
              "  customerID   DOB  Gender  State  ...  store_description_no  Year  Month  Weekday\n",
              "0      20482  3108       1     20  ...                     3  2016      5        6\n",
              "1      20485   594       0     36  ...                     3  2017      3        3\n",
              "\n",
              "[2 rows x 19 columns]"
            ]
          },
          "metadata": {
            "tags": []
          },
          "execution_count": 25
        }
      ]
    },
    {
      "cell_type": "code",
      "metadata": {
        "id": "Qd-NounfC9e7"
      },
      "source": [
        "stores = list(set(df['store_code']))\n",
        "\n",
        "cluster_labels = []\n",
        "cluster_store = []\n",
        "cluster_data = []\n",
        "cluster_customers = []\n",
        "cluster_score = []\n",
        "\n",
        "for x in stores:\n",
        "    cld = df[df['store_code'] == x]\n",
        "    cluster_customers.append(cld['customerID'])\n",
        "    cld.drop(['store_code','customerID','transactionDate','Year','promotion_description','Month','store_description_no'], axis=1, inplace=True)\n",
        "    \n",
        "    rbs = RobustScaler()\n",
        "    cld2 = rbs.fit_transform(cld)\n",
        "    \n",
        "    km1 = KMeans(n_clusters=3)\n",
        "    km2 = km1.fit(cld2)\n",
        "    label = km2.predict(cld2)\n",
        "    \n",
        "    s_score = silhouette_score(cld2, label)\n",
        "    cluster_score.append(s_score)\n",
        "    \n",
        "    cluster_labels.append(label)\n",
        "    cluster_store.append(np.repeat(x, cld.shape[0]))\n",
        "    cluster_data.append(cld2)\n",
        "\n",
        "## merge list into ndarray\n",
        "cluster_data = np.concatenate(cluster_data)\n",
        "## convert nested lists as 1d array\n",
        "cluster_customers = np.concatenate(cluster_customers)\n",
        "cluster_store = np.concatenate(cluster_store)\n",
        "cluster_labels = np.concatenate(cluster_labels)\n",
        "\n",
        "## create submission files\n",
        "sub1 = pd.DataFrame({'customerID':\"BBID_\"+cluster_customers, 'store_code':cluster_store, 'cluster':cluster_labels})\n",
        "\n",
        "np.savetxt('subOne_18.txt', cluster_data)\n",
        "sub1.to_csv('subtwo_18.csv', index=False)"
      ],
      "execution_count": 26,
      "outputs": []
    },
    {
      "cell_type": "code",
      "metadata": {
        "colab": {
          "base_uri": "https://localhost:8080/",
          "height": 282
        },
        "id": "QRWluZ9EDAKZ",
        "outputId": "f3d0ce96-fcff-465d-ef55-6f0ea5a60f0f"
      },
      "source": [
        "plt.scatter(cluster_customers_number,cluster_store,c=cluster_labels,cmap='rainbow')"
      ],
      "execution_count": 27,
      "outputs": [
        {
          "output_type": "execute_result",
          "data": {
            "text/plain": [
              "<matplotlib.collections.PathCollection at 0x7f07b4e2bc18>"
            ]
          },
          "metadata": {
            "tags": []
          },
          "execution_count": 27
        },
        {
          "output_type": "display_data",
          "data": {
            "image/png": "[encoded data removed]",
            "text/plain": [
              "<Figure size 432x288 with 1 Axes>"
            ]
          },
          "metadata": {
            "tags": [],
            "needs_background": "light"
          }
        }
      ]
    },
    {
      "cell_type": "code",
      "metadata": {
        "colab": {
          "base_uri": "https://localhost:8080/",
          "height": 510
        },
        "id": "oS9uFbI3DFOl",
        "outputId": "92f76b05-c654-4b6b-a3a6-33268f340316"
      },
      "source": [
        "df_clusters = pd.DataFrame()\n",
        "df_clusters['Cluster'] = np.array(cluster_labels)\n",
        "df_clusters['DOB'] = df['DOB']\n",
        "df_clusters['store_code'] = df['store_code']\n",
        "df_clusters['State'] = df['State']\n",
        "# df_clusters\n",
        "sns.set_style('darkgrid')\n",
        "g = sns.FacetGrid(df_clusters,hue=\"Cluster\",palette='coolwarm',size=6,aspect=2)\n",
        "g = g.map(plt.hist,'DOB',bins=20,alpha=0.7)"
      ],
      "execution_count": 28,
      "outputs": [
        {
          "output_type": "stream",
          "text": [
            "/usr/local/lib/python3.6/dist-packages/seaborn/axisgrid.py:316: UserWarning:\n",
            "\n",
            "The `size` parameter has been renamed to `height`; please update your code.\n",
            "\n"
          ],
          "name": "stderr"
        },
        {
          "output_type": "display_data",
          "data": {
            "image/png": "[encoded data removed]",
            "text/plain": [
              "<Figure size 864x432 with 1 Axes>"
            ]
          },
          "metadata": {
            "tags": []
          }
        }
      ]
    },
    {
      "cell_type": "code",
      "metadata": {
        "colab": {
          "base_uri": "https://localhost:8080/",
          "height": 629
        },
        "id": "yFozvCiXHawU",
        "outputId": "af2212f6-d63a-446a-b8f2-ebf2e76c63ed"
      },
      "source": [
        "sns.set_style('whitegrid')\n",
        "sns.lmplot('DOB','State',data=df_clusters, hue='Cluster',\n",
        "           palette='coolwarm',size=6,aspect=1,fit_reg=False)"
      ],
      "execution_count": 29,
      "outputs": [
        {
          "output_type": "stream",
          "text": [
            "/usr/local/lib/python3.6/dist-packages/seaborn/_decorators.py:43: FutureWarning:\n",
            "\n",
            "Pass the following variables as keyword args: x, y. From version 0.12, the only valid positional argument will be `data`, and passing other arguments without an explicit keyword will result in an error or misinterpretation.\n",
            "\n",
            "/usr/local/lib/python3.6/dist-packages/seaborn/regression.py:580: UserWarning:\n",
            "\n",
            "The `size` parameter has been renamed to `height`; please update your code.\n",
            "\n"
          ],
          "name": "stderr"
        },
        {
          "output_type": "execute_result",
          "data": {
            "text/plain": [
              "<seaborn.axisgrid.FacetGrid at 0x7f07ae0815c0>"
            ]
          },
          "metadata": {
            "tags": []
          },
          "execution_count": 29
        },
        {
          "output_type": "display_data",
          "data": {
            "image/png": "[encoded data removed]",
            "text/plain": [
              "<Figure size 475.5x432 with 1 Axes>"
            ]
          },
          "metadata": {
            "tags": []
          }
        }
      ]
    },
    {
      "cell_type": "code",
      "metadata": {
        "id": "LYeaQBQkHc8o"
      },
      "source": [
        "df1 = tender"
      ],
      "execution_count": 30,
      "outputs": []
    },
    {
      "cell_type": "code",
      "metadata": {
        "colab": {
          "base_uri": "https://localhost:8080/",
          "height": 308
        },
        "id": "r7LrABGAHe45",
        "outputId": "41cf26ea-25df-4ed2-e9d5-89d7be936028"
      },
      "source": [
        "df1.head()"
      ],
      "execution_count": 31,
      "outputs": [
        {
          "output_type": "execute_result",
          "data": {
            "text/html": [
              "<div>\n",
              "<style scoped>\n",
              "    .dataframe tbody tr th:only-of-type {\n",
              "        vertical-align: middle;\n",
              "    }\n",
              "\n",
              "    .dataframe tbody tr th {\n",
              "        vertical-align: top;\n",
              "    }\n",
              "\n",
              "    .dataframe thead th {\n",
              "        text-align: right;\n",
              "    }\n",
              "</style>\n",
              "<table border=\"1\" class=\"dataframe\">\n",
              "  <thead>\n",
              "    <tr style=\"text-align: right;\">\n",
              "      <th></th>\n",
              "      <th>customerID</th>\n",
              "      <th>DOB</th>\n",
              "      <th>Gender</th>\n",
              "      <th>State</th>\n",
              "      <th>PinCode</th>\n",
              "      <th>transactionDate</th>\n",
              "      <th>store_code</th>\n",
              "      <th>store_description</th>\n",
              "      <th>till_no</th>\n",
              "      <th>tender_type</th>\n",
              "      <th>transaction_number_by_till</th>\n",
              "      <th>payment_amount_by_tender</th>\n",
              "      <th>PaymentUsed</th>\n",
              "    </tr>\n",
              "  </thead>\n",
              "  <tbody>\n",
              "    <tr>\n",
              "      <th>0</th>\n",
              "      <td>BBID_2044</td>\n",
              "      <td>1984-04-02</td>\n",
              "      <td>male</td>\n",
              "      <td>NaN</td>\n",
              "      <td>626125.0</td>\n",
              "      <td>2015-09-03</td>\n",
              "      <td>4986</td>\n",
              "      <td>BB-MADURAI-KOCHADAI VILLAGE</td>\n",
              "      <td>22</td>\n",
              "      <td>GVOWN</td>\n",
              "      <td>9208</td>\n",
              "      <td>1000.00</td>\n",
              "      <td>GiftVoucher</td>\n",
              "    </tr>\n",
              "    <tr>\n",
              "      <th>1</th>\n",
              "      <td>BBID_2044</td>\n",
              "      <td>1984-04-02</td>\n",
              "      <td>male</td>\n",
              "      <td>NaN</td>\n",
              "      <td>626125.0</td>\n",
              "      <td>2015-09-03</td>\n",
              "      <td>4986</td>\n",
              "      <td>BB-MADURAI-KOCHADAI VILLAGE</td>\n",
              "      <td>22</td>\n",
              "      <td>CASH</td>\n",
              "      <td>9208</td>\n",
              "      <td>10.46</td>\n",
              "      <td>CASH</td>\n",
              "    </tr>\n",
              "    <tr>\n",
              "      <th>2</th>\n",
              "      <td>BBID_2044</td>\n",
              "      <td>1984-04-02</td>\n",
              "      <td>male</td>\n",
              "      <td>NaN</td>\n",
              "      <td>626125.0</td>\n",
              "      <td>2016-04-17</td>\n",
              "      <td>4986</td>\n",
              "      <td>BB-MADURAI-KOCHADAI VILLAGE</td>\n",
              "      <td>19</td>\n",
              "      <td>EDCAXIS</td>\n",
              "      <td>90269</td>\n",
              "      <td>677.28</td>\n",
              "      <td>AXIS</td>\n",
              "    </tr>\n",
              "    <tr>\n",
              "      <th>3</th>\n",
              "      <td>BBID_2044</td>\n",
              "      <td>1984-04-02</td>\n",
              "      <td>male</td>\n",
              "      <td>NaN</td>\n",
              "      <td>626125.0</td>\n",
              "      <td>2016-04-17</td>\n",
              "      <td>4986</td>\n",
              "      <td>BB-MADURAI-KOCHADAI VILLAGE</td>\n",
              "      <td>19</td>\n",
              "      <td>MOBI</td>\n",
              "      <td>90268</td>\n",
              "      <td>1042.00</td>\n",
              "      <td>One MobiKwik Systems</td>\n",
              "    </tr>\n",
              "    <tr>\n",
              "      <th>4</th>\n",
              "      <td>BBID_2044</td>\n",
              "      <td>1984-04-02</td>\n",
              "      <td>male</td>\n",
              "      <td>NaN</td>\n",
              "      <td>626125.0</td>\n",
              "      <td>2016-04-17</td>\n",
              "      <td>4986</td>\n",
              "      <td>BB-MADURAI-KOCHADAI VILLAGE</td>\n",
              "      <td>19</td>\n",
              "      <td>MOBI</td>\n",
              "      <td>90269</td>\n",
              "      <td>1000.00</td>\n",
              "      <td>One MobiKwik Systems</td>\n",
              "    </tr>\n",
              "  </tbody>\n",
              "</table>\n",
              "</div>"
            ],
            "text/plain": [
              "  customerID         DOB  ... payment_amount_by_tender           PaymentUsed\n",
              "0  BBID_2044  1984-04-02  ...                  1000.00           GiftVoucher\n",
              "1  BBID_2044  1984-04-02  ...                    10.46                  CASH\n",
              "2  BBID_2044  1984-04-02  ...                   677.28                  AXIS\n",
              "3  BBID_2044  1984-04-02  ...                  1042.00  One MobiKwik Systems\n",
              "4  BBID_2044  1984-04-02  ...                  1000.00  One MobiKwik Systems\n",
              "\n",
              "[5 rows x 13 columns]"
            ]
          },
          "metadata": {
            "tags": []
          },
          "execution_count": 31
        }
      ]
    },
    {
      "cell_type": "code",
      "metadata": {
        "colab": {
          "base_uri": "https://localhost:8080/",
          "height": 415
        },
        "id": "FP0UkRDTHg2_",
        "outputId": "6745101d-fb1c-4af9-d84e-818e057ed182"
      },
      "source": [
        "sns.heatmap(df1.isnull(), yticklabels=False, cbar=False, cmap='viridis')"
      ],
      "execution_count": 32,
      "outputs": [
        {
          "output_type": "execute_result",
          "data": {
            "text/plain": [
              "<matplotlib.axes._subplots.AxesSubplot at 0x7f07ae4fa630>"
            ]
          },
          "metadata": {
            "tags": []
          },
          "execution_count": 32
        },
        {
          "output_type": "display_data",
          "data": {
            "image/png": "[encoded data removed]",
            "text/plain": [
              "<Figure size 432x288 with 1 Axes>"
            ]
          },
          "metadata": {
            "tags": []
          }
        }
      ]
    },
    {
      "cell_type": "code",
      "metadata": {
        "id": "Sbvz_pK-HisM"
      },
      "source": [
        "df1['PaymentUsed'].fillna('no_pay', inplace=True)\n",
        "df1['Gender'].fillna('no_gender', inplace=True)\n",
        "df1['State'].fillna('no_state', inplace=True)\n",
        "df1['PinCode'].fillna(-1, inplace=True)\n",
        "df1['DOB'].fillna(\"1\", inplace=True)"
      ],
      "execution_count": 33,
      "outputs": []
    },
    {
      "cell_type": "code",
      "metadata": {
        "colab": {
          "base_uri": "https://localhost:8080/",
          "height": 415
        },
        "id": "ej3ACEFAHl0C",
        "outputId": "fbf4f9f7-ba5f-4f1e-d7ec-cd632b3e82b7"
      },
      "source": [
        "sns.heatmap(df1.isnull(), yticklabels=False, cbar=False, cmap='viridis')"
      ],
      "execution_count": 34,
      "outputs": [
        {
          "output_type": "execute_result",
          "data": {
            "text/plain": [
              "<matplotlib.axes._subplots.AxesSubplot at 0x7f07ae5ad710>"
            ]
          },
          "metadata": {
            "tags": []
          },
          "execution_count": 34
        },
        {
          "output_type": "display_data",
          "data": {
            "image/png": "[encoded data removed]",
            "text/plain": [
              "<Figure size 432x288 with 1 Axes>"
            ]
          },
          "metadata": {
            "tags": []
          }
        }
      ]
    },
    {
      "cell_type": "code",
      "metadata": {
        "colab": {
          "base_uri": "https://localhost:8080/",
          "height": 295
        },
        "id": "tq2ZqASdHoQo",
        "outputId": "7ea4cc20-c96b-4b01-d920-43cbb82127cf"
      },
      "source": [
        "df1.describe()"
      ],
      "execution_count": 35,
      "outputs": [
        {
          "output_type": "execute_result",
          "data": {
            "text/html": [
              "<div>\n",
              "<style scoped>\n",
              "    .dataframe tbody tr th:only-of-type {\n",
              "        vertical-align: middle;\n",
              "    }\n",
              "\n",
              "    .dataframe tbody tr th {\n",
              "        vertical-align: top;\n",
              "    }\n",
              "\n",
              "    .dataframe thead th {\n",
              "        text-align: right;\n",
              "    }\n",
              "</style>\n",
              "<table border=\"1\" class=\"dataframe\">\n",
              "  <thead>\n",
              "    <tr style=\"text-align: right;\">\n",
              "      <th></th>\n",
              "      <th>PinCode</th>\n",
              "      <th>store_code</th>\n",
              "      <th>till_no</th>\n",
              "      <th>transaction_number_by_till</th>\n",
              "      <th>payment_amount_by_tender</th>\n",
              "    </tr>\n",
              "  </thead>\n",
              "  <tbody>\n",
              "    <tr>\n",
              "      <th>count</th>\n",
              "      <td>149752.000000</td>\n",
              "      <td>149752.000000</td>\n",
              "      <td>149752.000000</td>\n",
              "      <td>1.497520e+05</td>\n",
              "      <td>149752.000000</td>\n",
              "    </tr>\n",
              "    <tr>\n",
              "      <th>mean</th>\n",
              "      <td>527931.008848</td>\n",
              "      <td>4092.197707</td>\n",
              "      <td>9.699176</td>\n",
              "      <td>4.237656e+05</td>\n",
              "      <td>1515.504483</td>\n",
              "    </tr>\n",
              "    <tr>\n",
              "      <th>std</th>\n",
              "      <td>221985.625616</td>\n",
              "      <td>1015.442506</td>\n",
              "      <td>5.908312</td>\n",
              "      <td>5.135921e+07</td>\n",
              "      <td>2032.301453</td>\n",
              "    </tr>\n",
              "    <tr>\n",
              "      <th>min</th>\n",
              "      <td>-1.000000</td>\n",
              "      <td>2615.000000</td>\n",
              "      <td>1.000000</td>\n",
              "      <td>2.000000e+00</td>\n",
              "      <td>-28990.000000</td>\n",
              "    </tr>\n",
              "    <tr>\n",
              "      <th>25%</th>\n",
              "      <td>452001.000000</td>\n",
              "      <td>2655.000000</td>\n",
              "      <td>5.000000</td>\n",
              "      <td>2.365475e+04</td>\n",
              "      <td>299.000000</td>\n",
              "    </tr>\n",
              "    <tr>\n",
              "      <th>50%</th>\n",
              "      <td>580024.000000</td>\n",
              "      <td>4796.000000</td>\n",
              "      <td>9.000000</td>\n",
              "      <td>4.817500e+04</td>\n",
              "      <td>835.815000</td>\n",
              "    </tr>\n",
              "    <tr>\n",
              "      <th>75%</th>\n",
              "      <td>625016.000000</td>\n",
              "      <td>4843.000000</td>\n",
              "      <td>14.000000</td>\n",
              "      <td>7.249975e+04</td>\n",
              "      <td>2004.000000</td>\n",
              "    </tr>\n",
              "    <tr>\n",
              "      <th>max</th>\n",
              "      <td>999999.000000</td>\n",
              "      <td>4986.000000</td>\n",
              "      <td>25.000000</td>\n",
              "      <td>7.031894e+09</td>\n",
              "      <td>65635.400000</td>\n",
              "    </tr>\n",
              "  </tbody>\n",
              "</table>\n",
              "</div>"
            ],
            "text/plain": [
              "             PinCode  ...  payment_amount_by_tender\n",
              "count  149752.000000  ...             149752.000000\n",
              "mean   527931.008848  ...               1515.504483\n",
              "std    221985.625616  ...               2032.301453\n",
              "min        -1.000000  ...             -28990.000000\n",
              "25%    452001.000000  ...                299.000000\n",
              "50%    580024.000000  ...                835.815000\n",
              "75%    625016.000000  ...               2004.000000\n",
              "max    999999.000000  ...              65635.400000\n",
              "\n",
              "[8 rows x 5 columns]"
            ]
          },
          "metadata": {
            "tags": []
          },
          "execution_count": 35
        }
      ]
    },
    {
      "cell_type": "code",
      "metadata": {
        "colab": {
          "base_uri": "https://localhost:8080/",
          "height": 141
        },
        "id": "Obm7ub-_HqOU",
        "outputId": "6881d7da-7dc2-46e6-d595-00bcf715d42c"
      },
      "source": [
        "by_cust_id = df1.groupby(\"customerID\")\n",
        "by_cust_id.mean().head(2)"
      ],
      "execution_count": 36,
      "outputs": [
        {
          "output_type": "execute_result",
          "data": {
            "text/html": [
              "<div>\n",
              "<style scoped>\n",
              "    .dataframe tbody tr th:only-of-type {\n",
              "        vertical-align: middle;\n",
              "    }\n",
              "\n",
              "    .dataframe tbody tr th {\n",
              "        vertical-align: top;\n",
              "    }\n",
              "\n",
              "    .dataframe thead th {\n",
              "        text-align: right;\n",
              "    }\n",
              "</style>\n",
              "<table border=\"1\" class=\"dataframe\">\n",
              "  <thead>\n",
              "    <tr style=\"text-align: right;\">\n",
              "      <th></th>\n",
              "      <th>PinCode</th>\n",
              "      <th>store_code</th>\n",
              "      <th>till_no</th>\n",
              "      <th>transaction_number_by_till</th>\n",
              "      <th>payment_amount_by_tender</th>\n",
              "    </tr>\n",
              "    <tr>\n",
              "      <th>customerID</th>\n",
              "      <th></th>\n",
              "      <th></th>\n",
              "      <th></th>\n",
              "      <th></th>\n",
              "      <th></th>\n",
              "    </tr>\n",
              "  </thead>\n",
              "  <tbody>\n",
              "    <tr>\n",
              "      <th>BBID_204100102</th>\n",
              "      <td>456010.0</td>\n",
              "      <td>2702.0625</td>\n",
              "      <td>9.062500</td>\n",
              "      <td>33217.312500</td>\n",
              "      <td>1301.270000</td>\n",
              "    </tr>\n",
              "    <tr>\n",
              "      <th>BBID_204100150</th>\n",
              "      <td>625016.0</td>\n",
              "      <td>4986.0000</td>\n",
              "      <td>10.788462</td>\n",
              "      <td>54183.019231</td>\n",
              "      <td>334.425577</td>\n",
              "    </tr>\n",
              "  </tbody>\n",
              "</table>\n",
              "</div>"
            ],
            "text/plain": [
              "                 PinCode  ...  payment_amount_by_tender\n",
              "customerID                ...                          \n",
              "BBID_204100102  456010.0  ...               1301.270000\n",
              "BBID_204100150  625016.0  ...                334.425577\n",
              "\n",
              "[2 rows x 5 columns]"
            ]
          },
          "metadata": {
            "tags": []
          },
          "execution_count": 36
        }
      ]
    },
    {
      "cell_type": "code",
      "metadata": {
        "id": "VbgKRVR6H-FQ"
      },
      "source": [
        "df1_wo_bbid = df1\n",
        "payment_mode = df1_wo_bbid['PaymentUsed'].value_counts()\n",
        "payment_mode = payment_mode.index.tolist()\n",
        "payment_mode = {k: v for v, k in enumerate(payment_mode)}\n",
        "payment_mode\n",
        "def payment_converter(pay_mode):\n",
        "    return payment_mode[pay_mode]\n",
        "\n",
        "df1_wo_bbid['PayUsedCode'] = df1_wo_bbid['PaymentUsed'].apply(payment_converter)"
      ],
      "execution_count": 38,
      "outputs": []
    },
    {
      "cell_type": "code",
      "metadata": {
        "colab": {
          "base_uri": "https://localhost:8080/",
          "height": 164
        },
        "id": "CEsNHU3dICFF",
        "outputId": "6b05ccf6-a602-48c2-ed69-ebc100720847"
      },
      "source": [
        "df1_wo_bbid.head(2)"
      ],
      "execution_count": 39,
      "outputs": [
        {
          "output_type": "execute_result",
          "data": {
            "text/html": [
              "<div>\n",
              "<style scoped>\n",
              "    .dataframe tbody tr th:only-of-type {\n",
              "        vertical-align: middle;\n",
              "    }\n",
              "\n",
              "    .dataframe tbody tr th {\n",
              "        vertical-align: top;\n",
              "    }\n",
              "\n",
              "    .dataframe thead th {\n",
              "        text-align: right;\n",
              "    }\n",
              "</style>\n",
              "<table border=\"1\" class=\"dataframe\">\n",
              "  <thead>\n",
              "    <tr style=\"text-align: right;\">\n",
              "      <th></th>\n",
              "      <th>customerID</th>\n",
              "      <th>DOB</th>\n",
              "      <th>Gender</th>\n",
              "      <th>State</th>\n",
              "      <th>PinCode</th>\n",
              "      <th>transactionDate</th>\n",
              "      <th>store_code</th>\n",
              "      <th>store_description</th>\n",
              "      <th>till_no</th>\n",
              "      <th>tender_type</th>\n",
              "      <th>transaction_number_by_till</th>\n",
              "      <th>payment_amount_by_tender</th>\n",
              "      <th>PaymentUsed</th>\n",
              "      <th>PayUsedCode</th>\n",
              "    </tr>\n",
              "  </thead>\n",
              "  <tbody>\n",
              "    <tr>\n",
              "      <th>0</th>\n",
              "      <td>BBID_2044</td>\n",
              "      <td>1984-04-02</td>\n",
              "      <td>male</td>\n",
              "      <td>no_state</td>\n",
              "      <td>626125.0</td>\n",
              "      <td>2015-09-03</td>\n",
              "      <td>4986</td>\n",
              "      <td>BB-MADURAI-KOCHADAI VILLAGE</td>\n",
              "      <td>22</td>\n",
              "      <td>GVOWN</td>\n",
              "      <td>9208</td>\n",
              "      <td>1000.00</td>\n",
              "      <td>GiftVoucher</td>\n",
              "      <td>10</td>\n",
              "    </tr>\n",
              "    <tr>\n",
              "      <th>1</th>\n",
              "      <td>BBID_2044</td>\n",
              "      <td>1984-04-02</td>\n",
              "      <td>male</td>\n",
              "      <td>no_state</td>\n",
              "      <td>626125.0</td>\n",
              "      <td>2015-09-03</td>\n",
              "      <td>4986</td>\n",
              "      <td>BB-MADURAI-KOCHADAI VILLAGE</td>\n",
              "      <td>22</td>\n",
              "      <td>CASH</td>\n",
              "      <td>9208</td>\n",
              "      <td>10.46</td>\n",
              "      <td>CASH</td>\n",
              "      <td>0</td>\n",
              "    </tr>\n",
              "  </tbody>\n",
              "</table>\n",
              "</div>"
            ],
            "text/plain": [
              "  customerID         DOB  ...  PaymentUsed PayUsedCode\n",
              "0  BBID_2044  1984-04-02  ...  GiftVoucher          10\n",
              "1  BBID_2044  1984-04-02  ...         CASH           0\n",
              "\n",
              "[2 rows x 14 columns]"
            ]
          },
          "metadata": {
            "tags": []
          },
          "execution_count": 39
        }
      ]
    },
    {
      "cell_type": "code",
      "metadata": {
        "colab": {
          "base_uri": "https://localhost:8080/"
        },
        "id": "UqYHzQnSIJVO",
        "outputId": "9cb29413-65b5-4f51-b8f1-2bce24c00659"
      },
      "source": [
        "by_cust_id = df1_wo_bbid.groupby(\"customerID\")\n",
        "by_cust_id = by_cust_id.mean().reset_index()\n",
        "df_df1_merged = pd.merge(by_cust_id,df,how='outer',on='customerID')\n",
        "df_df1_merged['PinCode_x'] = df_df1_merged['PinCode_x'].fillna(value=df_df1_merged['PinCode_x'].mean())\n",
        "df_df1_merged['store_code_x'] = df_df1_merged['store_code_x'].fillna(value=df_df1_merged['store_code_x'].value_counts().idxmax()).astype(int)\n",
        "df_df1_merged['till_no_x'] = df_df1_merged['till_no_x'].fillna(value=df_df1_merged['till_no_x'].value_counts().idxmax()).astype(int)\n",
        "df_df1_merged['transaction_number_by_till_x'] = df_df1_merged['transaction_number_by_till_x'].fillna(value=df_df1_merged['transaction_number_by_till_x'].value_counts().idxmax()).astype(int)\n",
        "df_df1_merged['payment_amount_by_tender'] = df_df1_merged['payment_amount_by_tender'].fillna(value=df_df1_merged['payment_amount_by_tender'].sum())\n",
        "df_df1_merged['PayUsedCode'] = df_df1_merged['PayUsedCode'].fillna(value=0)\n",
        "# df_df1_merged['PinCode_x']\n",
        "df_df1_merged.info()"
      ],
      "execution_count": 40,
      "outputs": [
        {
          "output_type": "stream",
          "text": [
            "<class 'pandas.core.frame.DataFrame'>\n",
            "Int64Index: 21352 entries, 0 to 21351\n",
            "Data columns (total 25 columns):\n",
            " #   Column                        Non-Null Count  Dtype         \n",
            "---  ------                        --------------  -----         \n",
            " 0   customerID                    21352 non-null  object        \n",
            " 1   PinCode_x                     21352 non-null  float64       \n",
            " 2   store_code_x                  21352 non-null  int64         \n",
            " 3   till_no_x                     21352 non-null  int64         \n",
            " 4   transaction_number_by_till_x  21352 non-null  int64         \n",
            " 5   payment_amount_by_tender      21352 non-null  float64       \n",
            " 6   PayUsedCode                   21352 non-null  float64       \n",
            " 7   DOB                           11972 non-null  float64       \n",
            " 8   Gender                        11972 non-null  float64       \n",
            " 9   State                         11972 non-null  float64       \n",
            " 10  PinCode_y                     11972 non-null  float64       \n",
            " 11  transactionDate               11972 non-null  datetime64[ns]\n",
            " 12  store_code_y                  11972 non-null  float64       \n",
            " 13  till_no_y                     11972 non-null  float64       \n",
            " 14  transaction_number_by_till_y  11972 non-null  float64       \n",
            " 15  promo_code                    11972 non-null  float64       \n",
            " 16  promotion_description         11972 non-null  float64       \n",
            " 17  product_code                  11972 non-null  float64       \n",
            " 18  product_description           11972 non-null  float64       \n",
            " 19  sale_price_after_promo        11972 non-null  float64       \n",
            " 20  discountUsed                  11972 non-null  float64       \n",
            " 21  store_description_no          11972 non-null  float64       \n",
            " 22  Year                          11972 non-null  float64       \n",
            " 23  Month                         11972 non-null  float64       \n",
            " 24  Weekday                       11972 non-null  float64       \n",
            "dtypes: datetime64[ns](1), float64(20), int64(3), object(1)\n",
            "memory usage: 4.2+ MB\n"
          ],
          "name": "stdout"
        }
      ]
    },
    {
      "cell_type": "code",
      "metadata": {
        "id": "457Rvl_oINE3"
      },
      "source": [
        ""
      ],
      "execution_count": null,
      "outputs": []
    }
  ]
}